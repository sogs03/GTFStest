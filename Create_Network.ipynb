{
 "cells": [
  {
   "cell_type": "markdown",
   "id": "8d8cc0b0",
   "metadata": {},
   "source": [
    "# Create a Network from GeoDataFrame"
   ]
  },
  {
   "cell_type": "markdown",
   "id": "a0564f91",
   "metadata": {},
   "source": [
    "<a href=https://osmnx.readthedocs.io/en/stable/user-reference.html#osmnx.convert.graph_from_gdfs>`ox.graph_from_gdfs`</a> is a function in the OSMnx library that allows you to create a graph from two GeoDataFrames: one for nodes and one for edges. This function is useful when you have spatial data in the form of GeoDataFrames and want to convert it into a graph structure for analysis or visualization.\n",
    "<br>\n",
    "\n",
    "osmnx.convert.graph_from_gdfs(gdf_nodes, gdf_edges, *, graph_attrs=None)\n",
    "\n",
    "To use this function, you need to match the nodes and edges in the GeoDataFrames with the graph structure. The nodes should be uniquely indexed by their IDs, and the edges should be uniquely multi-indexed by a combination of two nodes (u, v) and an optional key.\n",
    "* gdf_nodes (GeoDataFrame) – GeoDataFrame of graph nodes uniquely indexed by osmid.\n",
    "* gdf_edges (GeoDataFrame) – GeoDataFrame of graph edges uniquely multi-indexed by (u, v, key)."
   ]
  },
  {
   "cell_type": "code",
   "execution_count": null,
   "id": "329a52e1",
   "metadata": {},
   "outputs": [],
   "source": [
    "# Import necessary libraries\n",
    "import geopandas as gpd\n",
    "import pandas as pd\n",
    "import networkx as nx\n",
    "import osmnx as ox\n",
    "from tqdm import tqdm"
   ]
  },
  {
   "cell_type": "markdown",
   "id": "244169c9",
   "metadata": {},
   "source": [
    "## 1. Create a geometry of a network"
   ]
  },
  {
   "cell_type": "code",
   "execution_count": null,
   "id": "6bb5349e",
   "metadata": {},
   "outputs": [],
   "source": [
    "# Load data from ViewT (https://viewt.ktdb.go.kr/))\n",
    "nodes_viewt = gpd.read_file('./data/seoul_level6_2022/seoul_node_lev6_2022.shp', encoding='cp949')\n",
    "edges_viewt = gpd.read_file('./data/seoul_level6_2022/seoul_link_lev6_2022.shp', encoding='cp949')"
   ]
  },
  {
   "cell_type": "code",
   "execution_count": null,
   "id": "6bdafb84",
   "metadata": {},
   "outputs": [],
   "source": [
    "emd_gdf = gpd.read_file('./data/emd_5179.geojson')\n",
    "emd_gdf['ADM_CD'] = emd_gdf['ADM_CD'].astype(str)\n",
    "emd_gdf = emd_gdf.loc[emd_gdf['ADM_CD'].str.startswith('11240')]\n",
    "emd_gdf = emd_gdf.dissolve(by='BASE_DATE')\n",
    "emd_gdf"
   ]
  },
  {
   "cell_type": "code",
   "execution_count": null,
   "id": "e686842c",
   "metadata": {},
   "outputs": [],
   "source": [
    "# Select only the nodes and edges that intersect with the EMD geometry\n",
    "# This is for a demonstration purpose\n",
    "nodes_viewt = nodes_viewt.loc[nodes_viewt['geometry'].intersects(emd_gdf['geometry'].values[0])]\n",
    "edges_viewt = edges_viewt.loc[edges_viewt['geometry'].intersects(emd_gdf['geometry'].values[0])]"
   ]
  },
  {
   "cell_type": "markdown",
   "id": "be92c8e6",
   "metadata": {},
   "source": [
    "## 2. Match the nodes with the graph structure"
   ]
  },
  {
   "cell_type": "code",
   "execution_count": null,
   "id": "8ab91dcb",
   "metadata": {},
   "outputs": [],
   "source": [
    "# Original data\n",
    "nodes_viewt.head(3)"
   ]
  },
  {
   "cell_type": "code",
   "execution_count": null,
   "id": "38102592",
   "metadata": {},
   "outputs": [],
   "source": [
    "# Create a node gdf to be fed into OSMnx\n",
    "nodes_gdf = nodes_viewt.copy()\n",
    "\n",
    "nodes_gdf['node_id'] = nodes_gdf['node_id'].astype(int) # Remove decimal point\n",
    "nodes_gdf['node_id'] = nodes_gdf['node_id'].astype(str) # Change to string\n",
    "\n",
    "nodes_gdf['node_type'] = nodes_gdf['node_type'].astype(int) # Remove decimal point\n",
    "nodes_gdf['node_type'] = nodes_gdf['node_type'].astype(str) # Change to string\n",
    "\n",
    "# Assign the coordinates as columns\n",
    "nodes_gdf['y'] = nodes_gdf['geometry'].y\n",
    "nodes_gdf['x'] = nodes_gdf['geometry'].x\n",
    "\n",
    "nodes_gdf = nodes_gdf[['node_id', 'node_type', 'geometry', 'x', 'y']] # Remove unnecessary columns\n",
    "\n",
    "# Match Scheme with OSMnx\n",
    "nodes_gdf = nodes_gdf.set_index('node_id')\n",
    "\n",
    "nodes_gdf.head(3)"
   ]
  },
  {
   "cell_type": "markdown",
   "id": "75633dc6",
   "metadata": {},
   "source": [
    "## 3. Match the edges with the graph structure"
   ]
  },
  {
   "cell_type": "code",
   "execution_count": null,
   "id": "f80e1d4d",
   "metadata": {},
   "outputs": [],
   "source": [
    "# Original data\n",
    "edges_viewt.head(3)"
   ]
  },
  {
   "cell_type": "code",
   "execution_count": null,
   "id": "a10c5c19",
   "metadata": {},
   "outputs": [],
   "source": [
    "# Original data\n",
    "edges_viewt.columns"
   ]
  },
  {
   "cell_type": "code",
   "execution_count": null,
   "id": "2a41f610",
   "metadata": {},
   "outputs": [],
   "source": [
    "# To become a MultiDiGraph, the edges should be duplicated for two-way roads\n",
    "# and the geometry should be reversed for the reverse direction\n",
    "# If the road is one-way, the geometry should be kept as is\n",
    "\n",
    "edges_gdf = gpd.GeoDataFrame()\n",
    "\n",
    "for idx, row in tqdm(edges_viewt.iterrows(), total=edges_viewt.shape[0]):\n",
    "    if row['oneway'] == 0: # If the road is two-way, duplicate the row with reversed geometry\n",
    "        # Create a new row with non-reversed geometry\n",
    "        edges_gdf = pd.concat([gpd.GeoDataFrame({'link_id': row['up_v_link'], \n",
    "                                            'f_node': row['up_f_node'], \n",
    "                                            't_node': row['up_t_node'], \n",
    "                                            'max_speed': row['max_speed'],\n",
    "                                            'road_name': row['road_name'],\n",
    "                                            'road_rank': row['road_rank'],\n",
    "                                            'link_type': row['link_type'],\n",
    "                                            'geometry': row['geometry']\n",
    "                                            }, index=[0]), edges_gdf])\n",
    "        \n",
    "        # Add the reverse direction\n",
    "        edges_gdf = pd.concat([gpd.GeoDataFrame({'link_id': row['dw_v_link'], \n",
    "                                            'f_node': row['dw_f_node'], \n",
    "                                            't_node': row['dw_t_node'], \n",
    "                                            'max_speed': row['max_speed'],\n",
    "                                            'road_name': row['road_name'],\n",
    "                                            'road_rank': row['road_rank'],\n",
    "                                            'link_type': row['link_type'],\n",
    "                                            'geometry': row['geometry'].reverse()\n",
    "                                            }, index=[0]), edges_gdf])\n",
    "    else:\n",
    "        # If the road is one-way, keep the row as is\n",
    "        edges_gdf = pd.concat([gpd.GeoDataFrame({'link_id': row['up_v_link'], \n",
    "                                            'f_node': row['up_f_node'], \n",
    "                                            't_node': row['up_t_node'], \n",
    "                                            'max_speed': row['max_speed'],\n",
    "                                            'road_name': row['road_name'],\n",
    "                                            'road_rank': row['road_rank'],\n",
    "                                            'link_type': row['link_type'],\n",
    "                                            'geometry': row['geometry']\n",
    "                                            }, index=[0]), edges_gdf])\n",
    "\n",
    "# Reset the index\n",
    "edges_gdf = edges_gdf.reset_index(drop=True)\n",
    "\n",
    "# Assign the same CRS \n",
    "edges_gdf = edges_gdf.set_crs(edges_viewt.crs) \n",
    "edges_gdf\n"
   ]
  },
  {
   "cell_type": "code",
   "execution_count": null,
   "id": "b7bee7b7",
   "metadata": {},
   "outputs": [],
   "source": [
    "edges_gdf['length'] = edges_gdf.apply(lambda x: x['geometry'].length, axis=1) # Calculate length in meters\n",
    "\n",
    "# Change the data type of columns\n",
    "edges_gdf['link_id'] = edges_gdf['link_id'].astype(int) # Remove decimal point\n",
    "edges_gdf['link_id'] = edges_gdf['link_id'].astype(str) # Change to string\n",
    "\n",
    "edges_gdf['f_node'] = edges_gdf['f_node'].astype(int) # Remove decimal point\n",
    "edges_gdf['f_node'] = edges_gdf['f_node'].astype(str) # Change to string\n",
    "\n",
    "edges_gdf['t_node'] = edges_gdf['t_node'].astype(int) # Remove decimal point\n",
    "edges_gdf['t_node'] = edges_gdf['t_node'].astype(str) # Change to string\n",
    "\n",
    "edges_gdf['road_rank'] = edges_gdf['road_rank'].astype(int) # Remove decimal point\n",
    "edges_gdf['road_rank'] = edges_gdf['road_rank'].astype(str) # Change to string\n",
    "\n",
    "edges_gdf['link_type'] = edges_gdf['link_type'].astype(int) # Remove decimal point\n",
    "edges_gdf['link_type'] = edges_gdf['link_type'].astype(str) # Change to string\n",
    "\n",
    "edges_gdf['max_speed'] = edges_gdf['max_speed'].astype(int) # Remove decimal point\n",
    "\n",
    "edges_gdf"
   ]
  },
  {
   "cell_type": "markdown",
   "id": "3dfdcf26",
   "metadata": {},
   "source": [
    "## 4. Assign information (travel speed and travel time) to the edges"
   ]
  },
  {
   "cell_type": "code",
   "execution_count": null,
   "id": "eeafa8f5",
   "metadata": {},
   "outputs": [],
   "source": [
    "# Load speed data, also from ViewT\n",
    "speed_df = pd.read_csv('./data/PercentileSpeed_202209.csv')\n",
    "speed_df.head(3)"
   ]
  },
  {
   "cell_type": "code",
   "execution_count": null,
   "id": "9c93ac94",
   "metadata": {},
   "outputs": [],
   "source": [
    "# Select only the necessary columns\n",
    "speed_df = speed_df[['﻿level6 LINK ID',  '30% 주행속도 (km/h)']]\n",
    "speed_df = speed_df.rename(columns={'﻿level6 LINK ID': 'link_id', '30% 주행속도 (km/h)': 'speed'})\n",
    "                                    # '평균속도 (km/h)': 'avg_speed'})\n",
    "speed_df['link_id'] = speed_df['link_id'].astype(str)\n",
    "speed_df"
   ]
  },
  {
   "cell_type": "code",
   "execution_count": null,
   "id": "379169c9",
   "metadata": {},
   "outputs": [],
   "source": [
    "# Merge the speed data with the edges data\n",
    "edges_gdf = edges_gdf.merge(speed_df, on='link_id', how='left')\n",
    "edges_gdf"
   ]
  },
  {
   "cell_type": "code",
   "execution_count": null,
   "id": "a874febc",
   "metadata": {},
   "outputs": [],
   "source": [
    "# Find the cells with missing speed data\n",
    "edges_gdf.loc[(edges_gdf['speed'].isna()) | (edges_gdf['speed'] == 0)]"
   ]
  },
  {
   "cell_type": "code",
   "execution_count": null,
   "id": "f80dd78b",
   "metadata": {},
   "outputs": [],
   "source": [
    "# Fill the missing speed data based on the road rank\n",
    "for idx, row in edges_gdf.loc[(edges_gdf['speed'].isna()) | (edges_gdf['speed'] == 0)].iterrows():\n",
    "\n",
    "    if row['road_rank'] == '101': # 고속도로\n",
    "        edges_gdf.at[idx, 'speed'] = 100\n",
    "    elif row['road_rank'] == '102': # 도시고속도로\n",
    "        edges_gdf.at[idx, 'speed'] = 80\n",
    "    # 일반국도, 특별/광역시도, 국가지원지방도, 일반지방도, 시군도\n",
    "    elif row['road_rank'] in ['103', '104', '105', '106', '107']: \n",
    "        edges_gdf.at[idx, 'speed'] = 50\n",
    "    elif row['road_rank'] == '108': # 고속도로 연결램프\n",
    "        edges_gdf.at[idx, 'speed'] = 40\n",
    "    else:\n",
    "        raise ValueError('Unexpected Road Rank')\n",
    "            "
   ]
  },
  {
   "cell_type": "code",
   "execution_count": null,
   "id": "8c675079",
   "metadata": {},
   "outputs": [],
   "source": [
    "edges_gdf.loc[edges_gdf['speed'].isna()]"
   ]
  },
  {
   "cell_type": "code",
   "execution_count": null,
   "id": "7f0ebd4b",
   "metadata": {},
   "outputs": [],
   "source": [
    "# Match Scheme with OSMnx\n",
    "edges_gdf = edges_gdf.rename(columns={'f_node': 'u', 't_node': 'v'}) #  , 'link_id': 'osmid'})\n",
    "edges_gdf['key'] = 0\n",
    "edges_gdf = edges_gdf.set_index(['u', 'v', 'key'])\n",
    "edges_gdf"
   ]
  },
  {
   "cell_type": "code",
   "execution_count": null,
   "id": "ca01449c",
   "metadata": {},
   "outputs": [],
   "source": [
    "edges_gdf.index.get_level_values('u').isin(nodes_gdf.index)"
   ]
  },
  {
   "cell_type": "code",
   "execution_count": null,
   "id": "5aaccca1",
   "metadata": {},
   "outputs": [],
   "source": [
    "# Remove edges that are not connected to the nodes\n",
    "edges_gdf = edges_gdf.loc[(edges_gdf.index.get_level_values('u').isin(nodes_gdf.index)) & \n",
    "                          (edges_gdf.index.get_level_values('v').isin(nodes_gdf.index))\n",
    "                         ]\n",
    "edges_gdf"
   ]
  },
  {
   "cell_type": "code",
   "execution_count": null,
   "id": "e954ef74",
   "metadata": {},
   "outputs": [],
   "source": [
    "# Double check if there are any edges with speed 0\n",
    "edges_gdf.loc[edges_gdf['speed'] == 0]"
   ]
  },
  {
   "cell_type": "code",
   "execution_count": null,
   "id": "bb3be4a3",
   "metadata": {},
   "outputs": [],
   "source": [
    "# Calculate the travel time for each edge\n",
    "# travel_time = length / speed\n",
    "# Convert speed from km/h to m/s\n",
    "edges_gdf['travel_time'] = edges_gdf.apply(lambda x: x['length'] / (x['speed'] * 1000 / 3600), axis=1)\n",
    "edges_gdf"
   ]
  },
  {
   "cell_type": "code",
   "execution_count": null,
   "id": "964656f4",
   "metadata": {},
   "outputs": [],
   "source": [
    "edges_gdf.plot(column='speed', cmap='Reds_r', \n",
    "               legend=True, \n",
    "               scheme='UserDefined',\n",
    "                classification_kwds={'bins': [30, 50, 80, 100]},\n",
    "                figsize=(10, 10))"
   ]
  },
  {
   "cell_type": "markdown",
   "id": "0fe0ede9",
   "metadata": {},
   "source": [
    "## 5. Convert the GeoDataFrames to a graph"
   ]
  },
  {
   "cell_type": "code",
   "execution_count": null,
   "id": "04641546",
   "metadata": {},
   "outputs": [],
   "source": [
    "# Convert nodes and edges GeoDataFrames to NetworkX graph\n",
    "G = ox.graph_from_gdfs(nodes_gdf, edges_gdf)\n",
    "\n",
    "ox.plot_graph(G)"
   ]
  },
  {
   "cell_type": "markdown",
   "id": "105f596c",
   "metadata": {},
   "source": [
    "## 6. Check the graph (i.e., remove disconnected nodes)\n",
    "\n",
    "We can remove disconnected nodes from the graph using nx.strongly_connected_components() function. This function returns a list of strongly connected components in the graph, which can identify a subgraph that is unreachable from other nodes/vertices of a graph or subgraph. "
   ]
  },
  {
   "cell_type": "code",
   "execution_count": null,
   "id": "316b9cc4",
   "metadata": {},
   "outputs": [],
   "source": [
    "list(nx.strongly_connected_components(G))"
   ]
  },
  {
   "cell_type": "code",
   "execution_count": null,
   "id": "c4c196a5",
   "metadata": {},
   "outputs": [],
   "source": [
    "abc = [c for c in sorted(nx.strongly_connected_components(G), key=len, reverse=True)]\n",
    "abc"
   ]
  },
  {
   "cell_type": "code",
   "execution_count": null,
   "id": "b14db714",
   "metadata": {},
   "outputs": [],
   "source": [
    "nodes_gdf.loc[nodes_gdf.index.isin(abc[4])].explore()"
   ]
  },
  {
   "cell_type": "code",
   "execution_count": null,
   "id": "9ed11f2b",
   "metadata": {},
   "outputs": [],
   "source": [
    "# With max function, we can find the largest connected component\n",
    "largest_section = max(nx.strongly_connected_components(G), key=len)\n",
    "largest_section"
   ]
  },
  {
   "cell_type": "code",
   "execution_count": null,
   "id": "5d1c78a4",
   "metadata": {},
   "outputs": [],
   "source": [
    "# G.subgraph will clip the graph with the nodes provided\n",
    "# This will create a new graph with only the nodes in the largest section\n",
    "G = G.subgraph(largest_section)\n",
    "ox.plot_graph(G)"
   ]
  },
  {
   "cell_type": "markdown",
   "id": "f7cfd518",
   "metadata": {},
   "source": [
    "## 7. Export the graph to a graphml file"
   ]
  },
  {
   "cell_type": "code",
   "execution_count": null,
   "id": "3bb37768",
   "metadata": {},
   "outputs": [],
   "source": [
    "# You can save the graph to a file\n",
    "# ox.save_graphml(G, './data/road_network_seoul.graphml')"
   ]
  }
 ],
 "metadata": {
  "kernelspec": {
   "display_name": "GIS_Project",
   "language": "python",
   "name": "python3"
  },
  "language_info": {
   "codemirror_mode": {
    "name": "ipython",
    "version": 3
   },
   "file_extension": ".py",
   "mimetype": "text/x-python",
   "name": "python",
   "nbconvert_exporter": "python",
   "pygments_lexer": "ipython3",
   "version": "3.13.1"
  }
 },
 "nbformat": 4,
 "nbformat_minor": 5
}

{
 "cells": [
  {
   "cell_type": "code",
   "execution_count": 1,
   "id": "080e5d8a",
   "metadata": {},
   "outputs": [],
   "source": [
    "import pandas as pd\n",
    "import geopandas as gpd\n",
    "import networkx as nx\n",
    "import matplotlib.pyplot as plt"
   ]
  },
  {
   "cell_type": "code",
   "execution_count": 2,
   "id": "cbfd87d1",
   "metadata": {},
   "outputs": [],
   "source": [
    "# 1-1. GTFS 불러오기\n",
    "stops = pd.read_csv(\"./2024-TM-PT-GTFS 대중교통GTFS(2023년 기준)/202303_GTFS_DataSet/stops.txt\")\n",
    "routes = pd.read_csv( './2024-TM-PT-GTFS 대중교통GTFS(2023년 기준)/202303_GTFS_DataSet/routes.txt')\n",
    "trips = pd.read_csv(\"./2024-TM-PT-GTFS 대중교통GTFS(2023년 기준)/202303_GTFS_DataSet/trips.txt\")\n",
    "stop_times = pd.read_csv(\"./2024-TM-PT-GTFS 대중교통GTFS(2023년 기준)/202303_GTFS_DataSet/stop_times.txt\")\n",
    "transfers = pd.read_excel(\"./2024-TM-PT-GTFS 대중교통GTFS(2023년 기준)/202303_GTFS_도시철도환승정보.xlsx\", header=7)  # 컬럼명: Fr_Stop_ID, To_Stop_ID, Time_Min"
   ]
  },
  {
   "cell_type": "code",
   "execution_count": 3,
   "id": "195547f7",
   "metadata": {},
   "outputs": [
    {
     "data": {
      "text/html": [
       "<div>\n",
       "<style scoped>\n",
       "    .dataframe tbody tr th:only-of-type {\n",
       "        vertical-align: middle;\n",
       "    }\n",
       "\n",
       "    .dataframe tbody tr th {\n",
       "        vertical-align: top;\n",
       "    }\n",
       "\n",
       "    .dataframe thead th {\n",
       "        text-align: right;\n",
       "    }\n",
       "</style>\n",
       "<table border=\"1\" class=\"dataframe\">\n",
       "  <thead>\n",
       "    <tr style=\"text-align: right;\">\n",
       "      <th></th>\n",
       "      <th>EMD_CD</th>\n",
       "      <th>COL_ADM_SE</th>\n",
       "      <th>EMD_NM</th>\n",
       "      <th>SGG_OID</th>\n",
       "      <th>geometry</th>\n",
       "    </tr>\n",
       "  </thead>\n",
       "  <tbody>\n",
       "    <tr>\n",
       "      <th>0</th>\n",
       "      <td>11110103</td>\n",
       "      <td>11110</td>\n",
       "      <td>궁정동</td>\n",
       "      <td>1034</td>\n",
       "      <td>POLYGON ((126.97031 37.58418, 126.97043 37.584...</td>\n",
       "    </tr>\n",
       "    <tr>\n",
       "      <th>1</th>\n",
       "      <td>11110120</td>\n",
       "      <td>11110</td>\n",
       "      <td>신문로1가</td>\n",
       "      <td>1032</td>\n",
       "      <td>POLYGON ((126.97185 37.5698, 126.97192 37.5698...</td>\n",
       "    </tr>\n",
       "    <tr>\n",
       "      <th>2</th>\n",
       "      <td>11110167</td>\n",
       "      <td>11110</td>\n",
       "      <td>충신동</td>\n",
       "      <td>375</td>\n",
       "      <td>POLYGON ((127.00856 37.57674, 127.00857 37.576...</td>\n",
       "    </tr>\n",
       "    <tr>\n",
       "      <th>3</th>\n",
       "      <td>11110185</td>\n",
       "      <td>11110</td>\n",
       "      <td>홍지동</td>\n",
       "      <td>374</td>\n",
       "      <td>POLYGON ((126.95399 37.60475, 126.95404 37.604...</td>\n",
       "    </tr>\n",
       "    <tr>\n",
       "      <th>4</th>\n",
       "      <td>11110154</td>\n",
       "      <td>11110</td>\n",
       "      <td>장사동</td>\n",
       "      <td>368</td>\n",
       "      <td>POLYGON ((126.9923 37.57001, 126.99247 37.5700...</td>\n",
       "    </tr>\n",
       "    <tr>\n",
       "      <th>...</th>\n",
       "      <td>...</td>\n",
       "      <td>...</td>\n",
       "      <td>...</td>\n",
       "      <td>...</td>\n",
       "      <td>...</td>\n",
       "    </tr>\n",
       "    <tr>\n",
       "      <th>151</th>\n",
       "      <td>28720340</td>\n",
       "      <td>28720</td>\n",
       "      <td>대청면</td>\n",
       "      <td>2945</td>\n",
       "      <td>MULTIPOLYGON (((124.66575 37.82172, 124.66627 ...</td>\n",
       "    </tr>\n",
       "    <tr>\n",
       "      <th>152</th>\n",
       "      <td>28720370</td>\n",
       "      <td>28720</td>\n",
       "      <td>자월면</td>\n",
       "      <td>3686</td>\n",
       "      <td>MULTIPOLYGON (((126.27897 37.26254, 126.27999 ...</td>\n",
       "    </tr>\n",
       "    <tr>\n",
       "      <th>153</th>\n",
       "      <td>28720360</td>\n",
       "      <td>28720</td>\n",
       "      <td>영흥면</td>\n",
       "      <td>3586</td>\n",
       "      <td>MULTIPOLYGON (((126.42841 37.2619, 126.42847 3...</td>\n",
       "    </tr>\n",
       "    <tr>\n",
       "      <th>154</th>\n",
       "      <td>28720330</td>\n",
       "      <td>28720</td>\n",
       "      <td>백령면</td>\n",
       "      <td>3786</td>\n",
       "      <td>POLYGON ((124.61268 37.96987, 124.61431 37.971...</td>\n",
       "    </tr>\n",
       "    <tr>\n",
       "      <th>155</th>\n",
       "      <td>28720350</td>\n",
       "      <td>28720</td>\n",
       "      <td>덕적면</td>\n",
       "      <td>3766</td>\n",
       "      <td>MULTIPOLYGON (((126.08566 37.22286, 126.08599 ...</td>\n",
       "    </tr>\n",
       "  </tbody>\n",
       "</table>\n",
       "<p>1369 rows × 5 columns</p>\n",
       "</div>"
      ],
      "text/plain": [
       "       EMD_CD COL_ADM_SE EMD_NM  SGG_OID  \\\n",
       "0    11110103      11110    궁정동     1034   \n",
       "1    11110120      11110  신문로1가     1032   \n",
       "2    11110167      11110    충신동      375   \n",
       "3    11110185      11110    홍지동      374   \n",
       "4    11110154      11110    장사동      368   \n",
       "..        ...        ...    ...      ...   \n",
       "151  28720340      28720    대청면     2945   \n",
       "152  28720370      28720    자월면     3686   \n",
       "153  28720360      28720    영흥면     3586   \n",
       "154  28720330      28720    백령면     3786   \n",
       "155  28720350      28720    덕적면     3766   \n",
       "\n",
       "                                              geometry  \n",
       "0    POLYGON ((126.97031 37.58418, 126.97043 37.584...  \n",
       "1    POLYGON ((126.97185 37.5698, 126.97192 37.5698...  \n",
       "2    POLYGON ((127.00856 37.57674, 127.00857 37.576...  \n",
       "3    POLYGON ((126.95399 37.60475, 126.95404 37.604...  \n",
       "4    POLYGON ((126.9923 37.57001, 126.99247 37.5700...  \n",
       "..                                                 ...  \n",
       "151  MULTIPOLYGON (((124.66575 37.82172, 124.66627 ...  \n",
       "152  MULTIPOLYGON (((126.27897 37.26254, 126.27999 ...  \n",
       "153  MULTIPOLYGON (((126.42841 37.2619, 126.42847 3...  \n",
       "154  POLYGON ((124.61268 37.96987, 124.61431 37.971...  \n",
       "155  MULTIPOLYGON (((126.08566 37.22286, 126.08599 ...  \n",
       "\n",
       "[1369 rows x 5 columns]"
      ]
     },
     "execution_count": 3,
     "metadata": {},
     "output_type": "execute_result"
    }
   ],
   "source": [
    "# 1-2. 경계 데이터 추출\n",
    "seoul = gpd.read_file('./LSMD_ADM_SECT_UMD_서울/LSMD_ADM_SECT_UMD_11_202509.shp', encoding = 'cp949')\n",
    "gyeonggi = gpd.read_file('./LSMD_ADM_SECT_UMD_경기/LSMD_ADM_SECT_UMD_41_202509.shp', encoding = 'cp949')\n",
    "incheon = gpd.read_file('./LSMD_ADM_SECT_UMD_인천/LSMD_ADM_SECT_UMD_28_202509.shp', encoding = 'cp949')\n",
    "boundary = pd.concat([seoul, gyeonggi, incheon])\n",
    "boundary = boundary.to_crs(epsg=4326) # 좌표계 변환\n",
    "boundary"
   ]
  },
  {
   "cell_type": "code",
   "execution_count": 4,
   "id": "e43ecec0",
   "metadata": {},
   "outputs": [
    {
     "data": {
      "application/vnd.microsoft.datawrangler.viewer.v0+json": {
       "columns": [
        {
         "name": "index",
         "rawType": "int64",
         "type": "integer"
        },
        {
         "name": "stop_id",
         "rawType": "object",
         "type": "string"
        },
        {
         "name": "stop_name",
         "rawType": "object",
         "type": "string"
        },
        {
         "name": "stop_lat",
         "rawType": "float64",
         "type": "float"
        },
        {
         "name": "stop_lon",
         "rawType": "float64",
         "type": "float"
        }
       ],
       "ref": "29f2e2f6-c516-4297-b459-8f164be022fd",
       "rows": [
        [
         "13",
         "BS_1100_100000001",
         "종로2가사거리",
         "37.56977",
         "126.98775"
        ],
        [
         "14",
         "BS_1100_100000002",
         "창경궁.서울대학교병원",
         "37.57918",
         "126.99657"
        ],
        [
         "15",
         "BS_1100_100000003",
         "명륜3가.성대입구",
         "37.58267",
         "126.99834"
        ],
        [
         "16",
         "BS_1100_100000004",
         "종로2가.삼일교",
         "37.56858",
         "126.98761"
        ],
        [
         "17",
         "BS_1100_100000005",
         "혜화동로터리.여운형활동터",
         "37.58624",
         "127.00174"
        ],
        [
         "18",
         "BS_1100_100000006",
         "경기상고",
         "37.58755",
         "126.96936"
        ],
        [
         "19",
         "BS_1100_100000007",
         "신교동",
         "37.5833",
         "126.97026"
        ],
        [
         "20",
         "BS_1100_100000008",
         "경기상고",
         "37.58719",
         "126.96977"
        ],
        [
         "21",
         "BS_1100_100000009",
         "경복고교",
         "37.58511",
         "126.97104"
        ],
        [
         "22",
         "BS_1100_100000010",
         "청운중학교",
         "37.58785",
         "126.97251"
        ],
        [
         "23",
         "BS_1100_100000011",
         "자하문고개.윤동주문학관",
         "37.59219",
         "126.96713"
        ],
        [
         "24",
         "BS_1100_100000012",
         "자하문고개.윤동주문학관",
         "37.59234",
         "126.96719"
        ],
        [
         "25",
         "BS_1100_100000013",
         "청운중학교",
         "37.58813",
         "126.97246"
        ],
        [
         "26",
         "BS_1100_100000014",
         "경복고교",
         "37.58497",
         "126.97115"
        ],
        [
         "27",
         "BS_1100_100000015",
         "통인시장종로구보건소",
         "37.58033",
         "126.97105"
        ],
        [
         "28",
         "BS_1100_100000016",
         "통인시장종로구보건소",
         "37.58051",
         "126.97139"
        ],
        [
         "29",
         "BS_1100_100000017",
         "효자동",
         "37.58309",
         "126.97062"
        ],
        [
         "30",
         "BS_1100_100000018",
         "사직단.어린이도서관",
         "37.57514",
         "126.96799"
        ],
        [
         "31",
         "BS_1100_100000019",
         "사직동주민센터",
         "37.57618",
         "126.97132"
        ],
        [
         "32",
         "BS_1100_100000020",
         "경복궁역",
         "37.57687",
         "126.9722"
        ],
        [
         "33",
         "BS_1100_100000021",
         "경복궁역",
         "37.57767",
         "126.97228"
        ],
        [
         "34",
         "BS_1100_100000022",
         "경복궁",
         "37.57558",
         "126.97875"
        ],
        [
         "35",
         "BS_1100_100000023",
         "KT광화문지사",
         "37.57223",
         "126.97733"
        ],
        [
         "36",
         "BS_1100_100000025",
         "광화문",
         "37.56985",
         "126.97638"
        ],
        [
         "37",
         "BS_1100_100000028",
         "서울역사박물관.경교장.강북삼성병원",
         "37.57002",
         "126.97125"
        ],
        [
         "38",
         "BS_1100_100000029",
         "광화문.금호아시아나본관앞",
         "37.57029",
         "126.97313"
        ],
        [
         "39",
         "BS_1100_100000030",
         "광화문",
         "37.57037",
         "126.97584"
        ],
        [
         "40",
         "BS_1100_100000031",
         "세종문화회관",
         "37.57359",
         "126.97686"
        ],
        [
         "41",
         "BS_1100_100000032",
         "서울경찰청.경복궁역",
         "37.57574",
         "126.97148"
        ],
        [
         "42",
         "BS_1100_100000033",
         "사직단",
         "37.57486",
         "126.96819"
        ],
        [
         "43",
         "BS_1100_100000034",
         "광화문.광화문빌딩",
         "37.56969",
         "126.97669"
        ],
        [
         "44",
         "BS_1100_100000035",
         "덕성여중고",
         "37.5759",
         "126.98202"
        ],
        [
         "45",
         "BS_1100_100000036",
         "안국역.서울공예박물관",
         "37.57607",
         "126.984"
        ],
        [
         "46",
         "BS_1100_100000037",
         "국민은행세검정지점",
         "37.60466",
         "126.96089"
        ],
        [
         "47",
         "BS_1100_100000038",
         "세검정초등학교",
         "37.6025",
         "126.96122"
        ],
        [
         "48",
         "BS_1100_100000039",
         "세검정.상명대",
         "37.60073",
         "126.95872"
        ],
        [
         "49",
         "BS_1100_100000040",
         "상명대입구.석파랑",
         "37.59941",
         "126.95857"
        ],
        [
         "50",
         "BS_1100_100000041",
         "하림각",
         "37.59813",
         "126.96171"
        ],
        [
         "51",
         "BS_1100_100000042",
         "자하문터널입구.석파정",
         "37.59559",
         "126.96364"
        ],
        [
         "52",
         "BS_1100_100000043",
         "부암동주민센터.무계원",
         "37.59274",
         "126.96396"
        ],
        [
         "53",
         "BS_1100_100000044",
         "부암동주민센터.무계원",
         "37.59279",
         "126.96514"
        ],
        [
         "54",
         "BS_1100_100000045",
         "자하문터널입구.석파정",
         "37.59556",
         "126.96398"
        ],
        [
         "55",
         "BS_1100_100000046",
         "하림각",
         "37.59815",
         "126.96222"
        ],
        [
         "56",
         "BS_1100_100000047",
         "상명대입구.세검정교회",
         "37.59962",
         "126.95924"
        ],
        [
         "57",
         "BS_1100_100000048",
         "세검정.상명대",
         "37.60055",
         "126.95893"
        ],
        [
         "58",
         "BS_1100_100000049",
         "세검정초등학교",
         "37.60227",
         "126.96143"
        ],
        [
         "59",
         "BS_1100_100000051",
         "국민은행세검정지점",
         "37.60472",
         "126.96121"
        ],
        [
         "60",
         "BS_1100_100000053",
         "승가사입구",
         "37.61158",
         "126.95631"
        ],
        [
         "61",
         "BS_1100_100000054",
         "구기동현대빌라",
         "37.61004",
         "126.95646"
        ],
        [
         "62",
         "BS_1100_100000055",
         "구기터널.삼성출판박물관",
         "37.60861",
         "126.95621"
        ]
       ],
       "shape": {
        "columns": 4,
        "rows": 211640
       }
      },
      "text/html": [
       "<div>\n",
       "<style scoped>\n",
       "    .dataframe tbody tr th:only-of-type {\n",
       "        vertical-align: middle;\n",
       "    }\n",
       "\n",
       "    .dataframe tbody tr th {\n",
       "        vertical-align: top;\n",
       "    }\n",
       "\n",
       "    .dataframe thead th {\n",
       "        text-align: right;\n",
       "    }\n",
       "</style>\n",
       "<table border=\"1\" class=\"dataframe\">\n",
       "  <thead>\n",
       "    <tr style=\"text-align: right;\">\n",
       "      <th></th>\n",
       "      <th>stop_id</th>\n",
       "      <th>stop_name</th>\n",
       "      <th>stop_lat</th>\n",
       "      <th>stop_lon</th>\n",
       "    </tr>\n",
       "  </thead>\n",
       "  <tbody>\n",
       "    <tr>\n",
       "      <th>13</th>\n",
       "      <td>BS_1100_100000001</td>\n",
       "      <td>종로2가사거리</td>\n",
       "      <td>37.56977</td>\n",
       "      <td>126.98775</td>\n",
       "    </tr>\n",
       "    <tr>\n",
       "      <th>14</th>\n",
       "      <td>BS_1100_100000002</td>\n",
       "      <td>창경궁.서울대학교병원</td>\n",
       "      <td>37.57918</td>\n",
       "      <td>126.99657</td>\n",
       "    </tr>\n",
       "    <tr>\n",
       "      <th>15</th>\n",
       "      <td>BS_1100_100000003</td>\n",
       "      <td>명륜3가.성대입구</td>\n",
       "      <td>37.58267</td>\n",
       "      <td>126.99834</td>\n",
       "    </tr>\n",
       "    <tr>\n",
       "      <th>16</th>\n",
       "      <td>BS_1100_100000004</td>\n",
       "      <td>종로2가.삼일교</td>\n",
       "      <td>37.56858</td>\n",
       "      <td>126.98761</td>\n",
       "    </tr>\n",
       "    <tr>\n",
       "      <th>17</th>\n",
       "      <td>BS_1100_100000005</td>\n",
       "      <td>혜화동로터리.여운형활동터</td>\n",
       "      <td>37.58624</td>\n",
       "      <td>127.00174</td>\n",
       "    </tr>\n",
       "    <tr>\n",
       "      <th>...</th>\n",
       "      <td>...</td>\n",
       "      <td>...</td>\n",
       "      <td>...</td>\n",
       "      <td>...</td>\n",
       "    </tr>\n",
       "    <tr>\n",
       "      <th>211648</th>\n",
       "      <td>RS_ACC4_H30536</td>\n",
       "      <td>지제</td>\n",
       "      <td>37.01835</td>\n",
       "      <td>127.06957</td>\n",
       "    </tr>\n",
       "    <tr>\n",
       "      <th>211649</th>\n",
       "      <td>RS_ACC4_N10230</td>\n",
       "      <td>횡성</td>\n",
       "      <td>37.48194</td>\n",
       "      <td>128.00973</td>\n",
       "    </tr>\n",
       "    <tr>\n",
       "      <th>211650</th>\n",
       "      <td>RS_ACC4_N10428</td>\n",
       "      <td>둔내</td>\n",
       "      <td>37.51023</td>\n",
       "      <td>128.22129</td>\n",
       "    </tr>\n",
       "    <tr>\n",
       "      <th>211651</th>\n",
       "      <td>RS_ACC4_N10625</td>\n",
       "      <td>평창</td>\n",
       "      <td>37.56257</td>\n",
       "      <td>128.42948</td>\n",
       "    </tr>\n",
       "    <tr>\n",
       "      <th>211652</th>\n",
       "      <td>RS_ACC4_N10787</td>\n",
       "      <td>진부</td>\n",
       "      <td>37.64269</td>\n",
       "      <td>128.57452</td>\n",
       "    </tr>\n",
       "  </tbody>\n",
       "</table>\n",
       "<p>211640 rows × 4 columns</p>\n",
       "</div>"
      ],
      "text/plain": [
       "                  stop_id      stop_name  stop_lat   stop_lon\n",
       "13      BS_1100_100000001        종로2가사거리  37.56977  126.98775\n",
       "14      BS_1100_100000002    창경궁.서울대학교병원  37.57918  126.99657\n",
       "15      BS_1100_100000003      명륜3가.성대입구  37.58267  126.99834\n",
       "16      BS_1100_100000004       종로2가.삼일교  37.56858  126.98761\n",
       "17      BS_1100_100000005  혜화동로터리.여운형활동터  37.58624  127.00174\n",
       "...                   ...            ...       ...        ...\n",
       "211648     RS_ACC4_H30536             지제  37.01835  127.06957\n",
       "211649     RS_ACC4_N10230             횡성  37.48194  128.00973\n",
       "211650     RS_ACC4_N10428             둔내  37.51023  128.22129\n",
       "211651     RS_ACC4_N10625             평창  37.56257  128.42948\n",
       "211652     RS_ACC4_N10787             진부  37.64269  128.57452\n",
       "\n",
       "[211640 rows x 4 columns]"
      ]
     },
     "execution_count": 4,
     "metadata": {},
     "output_type": "execute_result"
    }
   ],
   "source": [
    "metro_bus_stops = stops[stops['stop_id'].str.startswith('BS') | stops['stop_id'].str.startswith('RS')]\n",
    "metro_bus_stops"
   ]
  },
  {
   "cell_type": "code",
   "execution_count": 5,
   "id": "c93b39ee",
   "metadata": {},
   "outputs": [],
   "source": [
    "metro_bus_stops_points = gpd.GeoDataFrame(metro_bus_stops, \n",
    "                                          geometry = gpd.points_from_xy(metro_bus_stops.stop_lon, metro_bus_stops.stop_lat, crs='EPSG:4326'))"
   ]
  },
  {
   "cell_type": "code",
   "execution_count": null,
   "id": "91970b0b",
   "metadata": {},
   "outputs": [
    {
     "data": {
      "image/png": "[encoded data removed]",
      "text/plain": [
       "<Figure size 1000x1000 with 1 Axes>"
      ]
     },
     "metadata": {},
     "output_type": "display_data"
    }
   ],
   "source": [
    "# 1차 필터링 : 경계 내 정류장 추출\n",
    "stops_metropolis = gpd.overlay(metro_bus_stops_points, boundary.to_crs(epsg=4326), how = 'intersection')\n",
    "longitude_cutoff = 126.2  # 최서단의 섬을 제외하기 위한 경도 기준\n",
    "stops_metropolis = stops_metropolis[stops_metropolis.geometry.x >= longitude_cutoff]\n",
    "\n",
    "fig, ax = plt.subplots(figsize = (10,10))\n",
    "boundary.plot(ax=ax, color = 'white', edgecolor = 'black')\n",
    "stops_metropolis.plot(color = 'blue', markersize=1, ax=ax)\n",
    "plt.title('Metro & Bus stops in Seoul, Gyeonggi, Incheon')\n",
    "plt.show()"
   ]
  },
  {
   "cell_type": "code",
   "execution_count": 8,
   "id": "f7176afd",
   "metadata": {},
   "outputs": [
    {
     "name": "stdout",
     "output_type": "stream",
     "text": [
      "stop_id       57862\n",
      "stop_name     31282\n",
      "stop_lat      37624\n",
      "stop_lon      38904\n",
      "EMD_CD         1285\n",
      "COL_ADM_SE       66\n",
      "EMD_NM         1176\n",
      "SGG_OID         942\n",
      "geometry      57845\n",
      "dtype: int64\n"
     ]
    }
   ],
   "source": [
    "print(stops_metropolis.nunique())"
   ]
  },
  {
   "cell_type": "code",
   "execution_count": 9,
   "id": "2e0b709d",
   "metadata": {},
   "outputs": [
    {
     "data": {
      "text/html": [
       "<div>\n",
       "<style scoped>\n",
       "    .dataframe tbody tr th:only-of-type {\n",
       "        vertical-align: middle;\n",
       "    }\n",
       "\n",
       "    .dataframe tbody tr th {\n",
       "        vertical-align: top;\n",
       "    }\n",
       "\n",
       "    .dataframe thead th {\n",
       "        text-align: right;\n",
       "    }\n",
       "</style>\n",
       "<table border=\"1\" class=\"dataframe\">\n",
       "  <thead>\n",
       "    <tr style=\"text-align: right;\">\n",
       "      <th></th>\n",
       "      <th>stop_id</th>\n",
       "      <th>stop_name</th>\n",
       "      <th>stop_lat</th>\n",
       "      <th>stop_lon</th>\n",
       "      <th>EMD_CD</th>\n",
       "      <th>COL_ADM_SE</th>\n",
       "      <th>EMD_NM</th>\n",
       "      <th>SGG_OID</th>\n",
       "      <th>geometry</th>\n",
       "    </tr>\n",
       "  </thead>\n",
       "  <tbody>\n",
       "    <tr>\n",
       "      <th>0</th>\n",
       "      <td>BS_1100_100000001</td>\n",
       "      <td>종로2가사거리</td>\n",
       "      <td>37.56977</td>\n",
       "      <td>126.98775</td>\n",
       "      <td>11110138</td>\n",
       "      <td>11110</td>\n",
       "      <td>종로2가</td>\n",
       "      <td>336</td>\n",
       "      <td>POINT (126.98775 37.56977)</td>\n",
       "    </tr>\n",
       "    <tr>\n",
       "      <th>1</th>\n",
       "      <td>BS_1100_100000002</td>\n",
       "      <td>창경궁.서울대학교병원</td>\n",
       "      <td>37.57918</td>\n",
       "      <td>126.99657</td>\n",
       "      <td>11110166</td>\n",
       "      <td>11110</td>\n",
       "      <td>연건동</td>\n",
       "      <td>315</td>\n",
       "      <td>POINT (126.99657 37.57918)</td>\n",
       "    </tr>\n",
       "    <tr>\n",
       "      <th>2</th>\n",
       "      <td>BS_1100_100000003</td>\n",
       "      <td>명륜3가.성대입구</td>\n",
       "      <td>37.58267</td>\n",
       "      <td>126.99834</td>\n",
       "      <td>11110172</td>\n",
       "      <td>11110</td>\n",
       "      <td>명륜4가</td>\n",
       "      <td>310</td>\n",
       "      <td>POINT (126.99834 37.58267)</td>\n",
       "    </tr>\n",
       "    <tr>\n",
       "      <th>3</th>\n",
       "      <td>BS_1100_100000004</td>\n",
       "      <td>종로2가.삼일교</td>\n",
       "      <td>37.56858</td>\n",
       "      <td>126.98761</td>\n",
       "      <td>11110135</td>\n",
       "      <td>11110</td>\n",
       "      <td>관철동</td>\n",
       "      <td>367</td>\n",
       "      <td>POINT (126.98761 37.56858)</td>\n",
       "    </tr>\n",
       "    <tr>\n",
       "      <th>4</th>\n",
       "      <td>BS_1100_100000005</td>\n",
       "      <td>혜화동로터리.여운형활동터</td>\n",
       "      <td>37.58624</td>\n",
       "      <td>127.00174</td>\n",
       "      <td>11110169</td>\n",
       "      <td>11110</td>\n",
       "      <td>혜화동</td>\n",
       "      <td>293</td>\n",
       "      <td>POINT (127.00174 37.58624)</td>\n",
       "    </tr>\n",
       "    <tr>\n",
       "      <th>...</th>\n",
       "      <td>...</td>\n",
       "      <td>...</td>\n",
       "      <td>...</td>\n",
       "      <td>...</td>\n",
       "      <td>...</td>\n",
       "      <td>...</td>\n",
       "      <td>...</td>\n",
       "      <td>...</td>\n",
       "      <td>...</td>\n",
       "    </tr>\n",
       "    <tr>\n",
       "      <th>57915</th>\n",
       "      <td>RS_ACC4_280090</td>\n",
       "      <td>가남</td>\n",
       "      <td>37.19726</td>\n",
       "      <td>127.53556</td>\n",
       "      <td>41670250</td>\n",
       "      <td>41670</td>\n",
       "      <td>가남읍</td>\n",
       "      <td>2002</td>\n",
       "      <td>POINT (127.53556 37.19726)</td>\n",
       "    </tr>\n",
       "    <tr>\n",
       "      <th>57916</th>\n",
       "      <td>RS_ACC4_H10219</td>\n",
       "      <td>광명</td>\n",
       "      <td>37.41649</td>\n",
       "      <td>126.88413</td>\n",
       "      <td>41210106</td>\n",
       "      <td>41210</td>\n",
       "      <td>일직동</td>\n",
       "      <td>1641</td>\n",
       "      <td>POINT (126.88413 37.41649)</td>\n",
       "    </tr>\n",
       "    <tr>\n",
       "      <th>57917</th>\n",
       "      <td>RS_ACC4_H30000</td>\n",
       "      <td>수서</td>\n",
       "      <td>37.48555</td>\n",
       "      <td>127.10447</td>\n",
       "      <td>11680115</td>\n",
       "      <td>11680</td>\n",
       "      <td>수서동</td>\n",
       "      <td>1203</td>\n",
       "      <td>POINT (127.10447 37.48555)</td>\n",
       "    </tr>\n",
       "    <tr>\n",
       "      <th>57918</th>\n",
       "      <td>RS_ACC4_H30326</td>\n",
       "      <td>동탄</td>\n",
       "      <td>37.20006</td>\n",
       "      <td>127.09542</td>\n",
       "      <td>41590129</td>\n",
       "      <td>41590</td>\n",
       "      <td>오산동</td>\n",
       "      <td>10156</td>\n",
       "      <td>POINT (127.09542 37.20006)</td>\n",
       "    </tr>\n",
       "    <tr>\n",
       "      <th>57919</th>\n",
       "      <td>RS_ACC4_H30536</td>\n",
       "      <td>지제</td>\n",
       "      <td>37.01835</td>\n",
       "      <td>127.06957</td>\n",
       "      <td>41220121</td>\n",
       "      <td>41220</td>\n",
       "      <td>지제동</td>\n",
       "      <td>18136</td>\n",
       "      <td>POINT (127.06957 37.01835)</td>\n",
       "    </tr>\n",
       "  </tbody>\n",
       "</table>\n",
       "<p>57512 rows × 9 columns</p>\n",
       "</div>"
      ],
      "text/plain": [
       "                 stop_id      stop_name  stop_lat   stop_lon    EMD_CD  \\\n",
       "0      BS_1100_100000001        종로2가사거리  37.56977  126.98775  11110138   \n",
       "1      BS_1100_100000002    창경궁.서울대학교병원  37.57918  126.99657  11110166   \n",
       "2      BS_1100_100000003      명륜3가.성대입구  37.58267  126.99834  11110172   \n",
       "3      BS_1100_100000004       종로2가.삼일교  37.56858  126.98761  11110135   \n",
       "4      BS_1100_100000005  혜화동로터리.여운형활동터  37.58624  127.00174  11110169   \n",
       "...                  ...            ...       ...        ...       ...   \n",
       "57915     RS_ACC4_280090             가남  37.19726  127.53556  41670250   \n",
       "57916     RS_ACC4_H10219             광명  37.41649  126.88413  41210106   \n",
       "57917     RS_ACC4_H30000             수서  37.48555  127.10447  11680115   \n",
       "57918     RS_ACC4_H30326             동탄  37.20006  127.09542  41590129   \n",
       "57919     RS_ACC4_H30536             지제  37.01835  127.06957  41220121   \n",
       "\n",
       "      COL_ADM_SE EMD_NM  SGG_OID                    geometry  \n",
       "0          11110   종로2가      336  POINT (126.98775 37.56977)  \n",
       "1          11110    연건동      315  POINT (126.99657 37.57918)  \n",
       "2          11110   명륜4가      310  POINT (126.99834 37.58267)  \n",
       "3          11110    관철동      367  POINT (126.98761 37.56858)  \n",
       "4          11110    혜화동      293  POINT (127.00174 37.58624)  \n",
       "...          ...    ...      ...                         ...  \n",
       "57915      41670    가남읍     2002  POINT (127.53556 37.19726)  \n",
       "57916      41210    일직동     1641  POINT (126.88413 37.41649)  \n",
       "57917      11680    수서동     1203  POINT (127.10447 37.48555)  \n",
       "57918      41590    오산동    10156  POINT (127.09542 37.20006)  \n",
       "57919      41220    지제동    18136  POINT (127.06957 37.01835)  \n",
       "\n",
       "[57512 rows x 9 columns]"
      ]
     },
     "execution_count": 9,
     "metadata": {},
     "output_type": "execute_result"
    }
   ],
   "source": [
    "list = ['교동면', '삼산면', '북도면', '자월면', '영흥면']\n",
    "pattern = '|'.join(list)\n",
    "mask = stops_metropolis['EMD_NM'].str.contains(pattern)\n",
    "stops_metropolis = stops_metropolis[~mask]\n",
    "stops_metropolis\n",
    "\n",
    "# stops_metropolis = stops_metropolis.drop(stops_metropolis[stops_metropolis['EMD_NM'].isin(list)])\n",
    "# stops_metropolis"
   ]
  },
  {
   "cell_type": "code",
   "execution_count": 10,
   "id": "c93765f1",
   "metadata": {},
   "outputs": [
    {
     "data": {
      "image/png": "[encoded data removed]",
      "text/plain": [
       "<Figure size 1000x1000 with 1 Axes>"
      ]
     },
     "metadata": {},
     "output_type": "display_data"
    }
   ],
   "source": [
    "fig, ax = plt.subplots(figsize = (10,10))\n",
    "boundary.plot(ax=ax, color = 'white', edgecolor = 'black')\n",
    "stops_metropolis.plot(color = 'blue', markersize=1, ax=ax)\n",
    "plt.show()"
   ]
  },
  {
   "cell_type": "code",
   "execution_count": 11,
   "id": "cdff3bb8",
   "metadata": {},
   "outputs": [],
   "source": [
    "# stops_metropolis.to_file('./stops_metropolis.shp', driver = 'ESRI Shapefile')"
   ]
  },
  {
   "cell_type": "code",
   "execution_count": null,
   "id": "14e036af",
   "metadata": {},
   "outputs": [
    {
     "data": {
      "text/html": [
       "<div>\n",
       "<style scoped>\n",
       "    .dataframe tbody tr th:only-of-type {\n",
       "        vertical-align: middle;\n",
       "    }\n",
       "\n",
       "    .dataframe tbody tr th {\n",
       "        vertical-align: top;\n",
       "    }\n",
       "\n",
       "    .dataframe thead th {\n",
       "        text-align: right;\n",
       "    }\n",
       "</style>\n",
       "<table border=\"1\" class=\"dataframe\">\n",
       "  <thead>\n",
       "    <tr style=\"text-align: right;\">\n",
       "      <th></th>\n",
       "      <th>stop_id</th>\n",
       "      <th>stop_name</th>\n",
       "      <th>stop_lat</th>\n",
       "      <th>stop_lon</th>\n",
       "    </tr>\n",
       "  </thead>\n",
       "  <tbody>\n",
       "    <tr>\n",
       "      <th>0</th>\n",
       "      <td>BS_1100_100000001</td>\n",
       "      <td>종로2가사거리</td>\n",
       "      <td>37.56977</td>\n",
       "      <td>126.98775</td>\n",
       "    </tr>\n",
       "    <tr>\n",
       "      <th>1</th>\n",
       "      <td>BS_1100_100000002</td>\n",
       "      <td>창경궁.서울대학교병원</td>\n",
       "      <td>37.57918</td>\n",
       "      <td>126.99657</td>\n",
       "    </tr>\n",
       "    <tr>\n",
       "      <th>2</th>\n",
       "      <td>BS_1100_100000003</td>\n",
       "      <td>명륜3가.성대입구</td>\n",
       "      <td>37.58267</td>\n",
       "      <td>126.99834</td>\n",
       "    </tr>\n",
       "    <tr>\n",
       "      <th>3</th>\n",
       "      <td>BS_1100_100000004</td>\n",
       "      <td>종로2가.삼일교</td>\n",
       "      <td>37.56858</td>\n",
       "      <td>126.98761</td>\n",
       "    </tr>\n",
       "    <tr>\n",
       "      <th>4</th>\n",
       "      <td>BS_1100_100000005</td>\n",
       "      <td>혜화동로터리.여운형활동터</td>\n",
       "      <td>37.58624</td>\n",
       "      <td>127.00174</td>\n",
       "    </tr>\n",
       "    <tr>\n",
       "      <th>...</th>\n",
       "      <td>...</td>\n",
       "      <td>...</td>\n",
       "      <td>...</td>\n",
       "      <td>...</td>\n",
       "    </tr>\n",
       "    <tr>\n",
       "      <th>57507</th>\n",
       "      <td>RS_ACC4_280090</td>\n",
       "      <td>가남</td>\n",
       "      <td>37.19726</td>\n",
       "      <td>127.53556</td>\n",
       "    </tr>\n",
       "    <tr>\n",
       "      <th>57508</th>\n",
       "      <td>RS_ACC4_H10219</td>\n",
       "      <td>광명</td>\n",
       "      <td>37.41649</td>\n",
       "      <td>126.88413</td>\n",
       "    </tr>\n",
       "    <tr>\n",
       "      <th>57509</th>\n",
       "      <td>RS_ACC4_H30000</td>\n",
       "      <td>수서</td>\n",
       "      <td>37.48555</td>\n",
       "      <td>127.10447</td>\n",
       "    </tr>\n",
       "    <tr>\n",
       "      <th>57510</th>\n",
       "      <td>RS_ACC4_H30326</td>\n",
       "      <td>동탄</td>\n",
       "      <td>37.20006</td>\n",
       "      <td>127.09542</td>\n",
       "    </tr>\n",
       "    <tr>\n",
       "      <th>57511</th>\n",
       "      <td>RS_ACC4_H30536</td>\n",
       "      <td>지제</td>\n",
       "      <td>37.01835</td>\n",
       "      <td>127.06957</td>\n",
       "    </tr>\n",
       "  </tbody>\n",
       "</table>\n",
       "<p>57512 rows × 4 columns</p>\n",
       "</div>"
      ],
      "text/plain": [
       "                 stop_id      stop_name  stop_lat   stop_lon\n",
       "0      BS_1100_100000001        종로2가사거리  37.56977  126.98775\n",
       "1      BS_1100_100000002    창경궁.서울대학교병원  37.57918  126.99657\n",
       "2      BS_1100_100000003      명륜3가.성대입구  37.58267  126.99834\n",
       "3      BS_1100_100000004       종로2가.삼일교  37.56858  126.98761\n",
       "4      BS_1100_100000005  혜화동로터리.여운형활동터  37.58624  127.00174\n",
       "...                  ...            ...       ...        ...\n",
       "57507     RS_ACC4_280090             가남  37.19726  127.53556\n",
       "57508     RS_ACC4_H10219             광명  37.41649  126.88413\n",
       "57509     RS_ACC4_H30000             수서  37.48555  127.10447\n",
       "57510     RS_ACC4_H30326             동탄  37.20006  127.09542\n",
       "57511     RS_ACC4_H30536             지제  37.01835  127.06957\n",
       "\n",
       "[57512 rows x 4 columns]"
      ]
     },
     "execution_count": 21,
     "metadata": {},
     "output_type": "execute_result"
    }
   ],
   "source": [
    "# stops.txt 정의 및 저장\n",
    "stops = stops_metropolis.copy()\n",
    "stops.drop(columns = ['EMD_CD', 'COL_ADM_SE', 'EMD_NM', 'SGG_OID', 'geometry'], inplace = True)\n",
    "stops.reset_index(drop=True, inplace=True)\n",
    "stops"
   ]
  },
  {
   "cell_type": "code",
   "execution_count": 22,
   "id": "5a71abd4",
   "metadata": {},
   "outputs": [
    {
     "data": {
      "application/vnd.microsoft.datawrangler.viewer.v0+json": {
       "columns": [
        {
         "name": "index",
         "rawType": "int64",
         "type": "integer"
        },
        {
         "name": "trip_id",
         "rawType": "object",
         "type": "string"
        },
        {
         "name": "arrival_time",
         "rawType": "object",
         "type": "string"
        },
        {
         "name": "departure_time",
         "rawType": "object",
         "type": "string"
        },
        {
         "name": "stop_id",
         "rawType": "object",
         "type": "string"
        },
        {
         "name": "stop_sequence",
         "rawType": "float64",
         "type": "float"
        },
        {
         "name": "pickup_type",
         "rawType": "int64",
         "type": "integer"
        },
        {
         "name": "drop_off_type",
         "rawType": "int64",
         "type": "integer"
        },
        {
         "name": "timepoint",
         "rawType": "int64",
         "type": "integer"
        }
       ],
       "ref": "efa7c2f2-a4b3-4590-adc8-0e86573323e6",
       "rows": [
        [
         "1124",
         "BR_1100_100000020_Ord001",
         "09:00:00",
         "09:00:00",
         "BS_1100_100000419",
         "1.0",
         "0",
         "0",
         "1"
        ],
        [
         "1125",
         "BR_1100_100000020_Ord001",
         "09:01:42",
         "09:01:52",
         "BS_1100_100000415",
         "2.0",
         "0",
         "0",
         "1"
        ],
        [
         "1126",
         "BR_1100_100000020_Ord001",
         "09:02:23",
         "09:02:33",
         "BS_1100_100000416",
         "3.0",
         "0",
         "0",
         "1"
        ],
        [
         "1127",
         "BR_1100_100000020_Ord001",
         "09:04:20",
         "09:04:30",
         "BS_1100_100000417",
         "4.0",
         "0",
         "0",
         "1"
        ],
        [
         "1128",
         "BR_1100_100000020_Ord001",
         "09:05:34",
         "09:05:44",
         "BS_1100_100000418",
         "5.0",
         "0",
         "0",
         "1"
        ],
        [
         "1129",
         "BR_1100_100000020_Ord001",
         "09:07:38",
         "09:07:38",
         "BS_1100_100000419",
         "6.0",
         "0",
         "0",
         "1"
        ],
        [
         "1130",
         "BR_1100_100000020_Ord002",
         "09:15:00",
         "09:15:00",
         "BS_1100_100000419",
         "1.0",
         "0",
         "0",
         "1"
        ],
        [
         "1131",
         "BR_1100_100000020_Ord002",
         "09:16:41",
         "09:16:51",
         "BS_1100_100000415",
         "2.0",
         "0",
         "0",
         "1"
        ],
        [
         "1132",
         "BR_1100_100000020_Ord002",
         "09:17:23",
         "09:17:33",
         "BS_1100_100000416",
         "3.0",
         "0",
         "0",
         "1"
        ],
        [
         "1133",
         "BR_1100_100000020_Ord002",
         "09:19:23",
         "09:19:33",
         "BS_1100_100000417",
         "4.0",
         "0",
         "0",
         "1"
        ],
        [
         "1134",
         "BR_1100_100000020_Ord002",
         "09:20:38",
         "09:20:48",
         "BS_1100_100000418",
         "5.0",
         "0",
         "0",
         "1"
        ],
        [
         "1135",
         "BR_1100_100000020_Ord002",
         "09:22:42",
         "09:22:42",
         "BS_1100_100000419",
         "6.0",
         "0",
         "0",
         "1"
        ],
        [
         "1136",
         "BR_1100_100000020_Ord003",
         "09:31:00",
         "09:31:00",
         "BS_1100_100000419",
         "1.0",
         "0",
         "0",
         "1"
        ],
        [
         "1137",
         "BR_1100_100000020_Ord003",
         "09:32:41",
         "09:32:51",
         "BS_1100_100000415",
         "2.0",
         "0",
         "0",
         "1"
        ],
        [
         "1138",
         "BR_1100_100000020_Ord003",
         "09:33:24",
         "09:33:34",
         "BS_1100_100000416",
         "3.0",
         "0",
         "0",
         "1"
        ],
        [
         "1139",
         "BR_1100_100000020_Ord003",
         "09:35:27",
         "09:35:37",
         "BS_1100_100000417",
         "4.0",
         "0",
         "0",
         "1"
        ],
        [
         "1140",
         "BR_1100_100000020_Ord003",
         "09:36:42",
         "09:36:52",
         "BS_1100_100000418",
         "5.0",
         "0",
         "0",
         "1"
        ],
        [
         "1141",
         "BR_1100_100000020_Ord003",
         "09:38:46",
         "09:38:46",
         "BS_1100_100000419",
         "6.0",
         "0",
         "0",
         "1"
        ],
        [
         "1142",
         "BR_1100_100000020_Ord004",
         "09:46:00",
         "09:46:00",
         "BS_1100_100000419",
         "1.0",
         "0",
         "0",
         "1"
        ],
        [
         "1143",
         "BR_1100_100000020_Ord004",
         "09:47:41",
         "09:47:51",
         "BS_1100_100000415",
         "2.0",
         "0",
         "0",
         "1"
        ],
        [
         "1144",
         "BR_1100_100000020_Ord004",
         "09:48:24",
         "09:48:34",
         "BS_1100_100000416",
         "3.0",
         "0",
         "0",
         "1"
        ],
        [
         "1145",
         "BR_1100_100000020_Ord004",
         "09:50:30",
         "09:50:40",
         "BS_1100_100000417",
         "4.0",
         "0",
         "0",
         "1"
        ],
        [
         "1146",
         "BR_1100_100000020_Ord004",
         "09:51:43",
         "09:51:53",
         "BS_1100_100000418",
         "5.0",
         "0",
         "0",
         "1"
        ],
        [
         "1147",
         "BR_1100_100000020_Ord004",
         "09:53:47",
         "09:53:47",
         "BS_1100_100000419",
         "6.0",
         "0",
         "0",
         "1"
        ],
        [
         "1148",
         "BR_1100_100000020_Ord005",
         "10:02:00",
         "10:02:00",
         "BS_1100_100000419",
         "1.0",
         "0",
         "0",
         "1"
        ],
        [
         "1149",
         "BR_1100_100000020_Ord005",
         "10:03:42",
         "10:03:52",
         "BS_1100_100000415",
         "2.0",
         "0",
         "0",
         "1"
        ],
        [
         "1150",
         "BR_1100_100000020_Ord005",
         "10:04:26",
         "10:04:36",
         "BS_1100_100000416",
         "3.0",
         "0",
         "0",
         "1"
        ],
        [
         "1151",
         "BR_1100_100000020_Ord005",
         "10:06:34",
         "10:06:44",
         "BS_1100_100000417",
         "4.0",
         "0",
         "0",
         "1"
        ],
        [
         "1152",
         "BR_1100_100000020_Ord005",
         "10:07:45",
         "10:07:55",
         "BS_1100_100000418",
         "5.0",
         "0",
         "0",
         "1"
        ],
        [
         "1153",
         "BR_1100_100000020_Ord005",
         "10:09:49",
         "10:09:49",
         "BS_1100_100000419",
         "6.0",
         "0",
         "0",
         "1"
        ],
        [
         "1154",
         "BR_1100_100000020_Ord006",
         "10:17:00",
         "10:17:00",
         "BS_1100_100000419",
         "1.0",
         "0",
         "0",
         "1"
        ],
        [
         "1155",
         "BR_1100_100000020_Ord006",
         "10:18:42",
         "10:18:52",
         "BS_1100_100000415",
         "2.0",
         "0",
         "0",
         "1"
        ],
        [
         "1156",
         "BR_1100_100000020_Ord006",
         "10:19:26",
         "10:19:36",
         "BS_1100_100000416",
         "3.0",
         "0",
         "0",
         "1"
        ],
        [
         "1157",
         "BR_1100_100000020_Ord006",
         "10:21:37",
         "10:21:47",
         "BS_1100_100000417",
         "4.0",
         "0",
         "0",
         "1"
        ],
        [
         "1158",
         "BR_1100_100000020_Ord006",
         "10:22:46",
         "10:22:56",
         "BS_1100_100000418",
         "5.0",
         "0",
         "0",
         "1"
        ],
        [
         "1159",
         "BR_1100_100000020_Ord006",
         "10:24:50",
         "10:24:50",
         "BS_1100_100000419",
         "6.0",
         "0",
         "0",
         "1"
        ],
        [
         "1160",
         "BR_1100_100000020_Ord007",
         "10:33:00",
         "10:33:00",
         "BS_1100_100000419",
         "1.0",
         "0",
         "0",
         "1"
        ],
        [
         "1161",
         "BR_1100_100000020_Ord007",
         "10:34:43",
         "10:34:53",
         "BS_1100_100000415",
         "2.0",
         "0",
         "0",
         "1"
        ],
        [
         "1162",
         "BR_1100_100000020_Ord007",
         "10:35:27",
         "10:35:37",
         "BS_1100_100000416",
         "3.0",
         "0",
         "0",
         "1"
        ],
        [
         "1163",
         "BR_1100_100000020_Ord007",
         "10:37:39",
         "10:37:49",
         "BS_1100_100000417",
         "4.0",
         "0",
         "0",
         "1"
        ],
        [
         "1164",
         "BR_1100_100000020_Ord007",
         "10:38:46",
         "10:38:56",
         "BS_1100_100000418",
         "5.0",
         "0",
         "0",
         "1"
        ],
        [
         "1165",
         "BR_1100_100000020_Ord007",
         "10:40:50",
         "10:40:50",
         "BS_1100_100000419",
         "6.0",
         "0",
         "0",
         "1"
        ],
        [
         "1166",
         "BR_1100_100000020_Ord008",
         "10:48:00",
         "10:48:00",
         "BS_1100_100000419",
         "1.0",
         "0",
         "0",
         "1"
        ],
        [
         "1167",
         "BR_1100_100000020_Ord008",
         "10:49:46",
         "10:49:56",
         "BS_1100_100000415",
         "2.0",
         "0",
         "0",
         "1"
        ],
        [
         "1168",
         "BR_1100_100000020_Ord008",
         "10:50:30",
         "10:50:40",
         "BS_1100_100000416",
         "3.0",
         "0",
         "0",
         "1"
        ],
        [
         "1169",
         "BR_1100_100000020_Ord008",
         "10:52:41",
         "10:52:51",
         "BS_1100_100000417",
         "4.0",
         "0",
         "0",
         "1"
        ],
        [
         "1170",
         "BR_1100_100000020_Ord008",
         "10:53:48",
         "10:53:58",
         "BS_1100_100000418",
         "5.0",
         "0",
         "0",
         "1"
        ],
        [
         "1171",
         "BR_1100_100000020_Ord008",
         "10:55:52",
         "10:55:52",
         "BS_1100_100000419",
         "6.0",
         "0",
         "0",
         "1"
        ],
        [
         "1172",
         "BR_1100_100000020_Ord009",
         "11:04:00",
         "11:04:00",
         "BS_1100_100000419",
         "1.0",
         "0",
         "0",
         "1"
        ],
        [
         "1173",
         "BR_1100_100000020_Ord009",
         "11:05:50",
         "11:06:00",
         "BS_1100_100000415",
         "2.0",
         "0",
         "0",
         "1"
        ]
       ],
       "shape": {
        "columns": 8,
        "rows": 12516151
       }
      },
      "text/html": [
       "<div>\n",
       "<style scoped>\n",
       "    .dataframe tbody tr th:only-of-type {\n",
       "        vertical-align: middle;\n",
       "    }\n",
       "\n",
       "    .dataframe tbody tr th {\n",
       "        vertical-align: top;\n",
       "    }\n",
       "\n",
       "    .dataframe thead th {\n",
       "        text-align: right;\n",
       "    }\n",
       "</style>\n",
       "<table border=\"1\" class=\"dataframe\">\n",
       "  <thead>\n",
       "    <tr style=\"text-align: right;\">\n",
       "      <th></th>\n",
       "      <th>trip_id</th>\n",
       "      <th>arrival_time</th>\n",
       "      <th>departure_time</th>\n",
       "      <th>stop_id</th>\n",
       "      <th>stop_sequence</th>\n",
       "      <th>pickup_type</th>\n",
       "      <th>drop_off_type</th>\n",
       "      <th>timepoint</th>\n",
       "    </tr>\n",
       "  </thead>\n",
       "  <tbody>\n",
       "    <tr>\n",
       "      <th>1124</th>\n",
       "      <td>BR_1100_100000020_Ord001</td>\n",
       "      <td>09:00:00</td>\n",
       "      <td>09:00:00</td>\n",
       "      <td>BS_1100_100000419</td>\n",
       "      <td>1.0</td>\n",
       "      <td>0</td>\n",
       "      <td>0</td>\n",
       "      <td>1</td>\n",
       "    </tr>\n",
       "    <tr>\n",
       "      <th>1125</th>\n",
       "      <td>BR_1100_100000020_Ord001</td>\n",
       "      <td>09:01:42</td>\n",
       "      <td>09:01:52</td>\n",
       "      <td>BS_1100_100000415</td>\n",
       "      <td>2.0</td>\n",
       "      <td>0</td>\n",
       "      <td>0</td>\n",
       "      <td>1</td>\n",
       "    </tr>\n",
       "    <tr>\n",
       "      <th>1126</th>\n",
       "      <td>BR_1100_100000020_Ord001</td>\n",
       "      <td>09:02:23</td>\n",
       "      <td>09:02:33</td>\n",
       "      <td>BS_1100_100000416</td>\n",
       "      <td>3.0</td>\n",
       "      <td>0</td>\n",
       "      <td>0</td>\n",
       "      <td>1</td>\n",
       "    </tr>\n",
       "    <tr>\n",
       "      <th>1127</th>\n",
       "      <td>BR_1100_100000020_Ord001</td>\n",
       "      <td>09:04:20</td>\n",
       "      <td>09:04:30</td>\n",
       "      <td>BS_1100_100000417</td>\n",
       "      <td>4.0</td>\n",
       "      <td>0</td>\n",
       "      <td>0</td>\n",
       "      <td>1</td>\n",
       "    </tr>\n",
       "    <tr>\n",
       "      <th>1128</th>\n",
       "      <td>BR_1100_100000020_Ord001</td>\n",
       "      <td>09:05:34</td>\n",
       "      <td>09:05:44</td>\n",
       "      <td>BS_1100_100000418</td>\n",
       "      <td>5.0</td>\n",
       "      <td>0</td>\n",
       "      <td>0</td>\n",
       "      <td>1</td>\n",
       "    </tr>\n",
       "    <tr>\n",
       "      <th>...</th>\n",
       "      <td>...</td>\n",
       "      <td>...</td>\n",
       "      <td>...</td>\n",
       "      <td>...</td>\n",
       "      <td>...</td>\n",
       "      <td>...</td>\n",
       "      <td>...</td>\n",
       "      <td>...</td>\n",
       "    </tr>\n",
       "    <tr>\n",
       "      <th>20867670</th>\n",
       "      <td>RR_ACC6_0840_U_Ord003</td>\n",
       "      <td>21:25:00</td>\n",
       "      <td>21:26:00</td>\n",
       "      <td>RS_ACC4_130126</td>\n",
       "      <td>39.0</td>\n",
       "      <td>0</td>\n",
       "      <td>0</td>\n",
       "      <td>1</td>\n",
       "    </tr>\n",
       "    <tr>\n",
       "      <th>20867671</th>\n",
       "      <td>RR_ACC6_0840_U_Ord003</td>\n",
       "      <td>21:46:00</td>\n",
       "      <td>21:46:00</td>\n",
       "      <td>RS_ACC4_010000</td>\n",
       "      <td>47.0</td>\n",
       "      <td>1</td>\n",
       "      <td>0</td>\n",
       "      <td>1</td>\n",
       "    </tr>\n",
       "    <tr>\n",
       "      <th>20867679</th>\n",
       "      <td>RR_ACC6_0840_U_Ord004</td>\n",
       "      <td>23:22:00</td>\n",
       "      <td>23:23:00</td>\n",
       "      <td>RS_ACC4_020524</td>\n",
       "      <td>23.0</td>\n",
       "      <td>0</td>\n",
       "      <td>0</td>\n",
       "      <td>1</td>\n",
       "    </tr>\n",
       "    <tr>\n",
       "      <th>20867680</th>\n",
       "      <td>RR_ACC6_0840_U_Ord004</td>\n",
       "      <td>23:49:00</td>\n",
       "      <td>23:51:00</td>\n",
       "      <td>RS_ACC4_130126</td>\n",
       "      <td>39.0</td>\n",
       "      <td>0</td>\n",
       "      <td>0</td>\n",
       "      <td>1</td>\n",
       "    </tr>\n",
       "    <tr>\n",
       "      <th>20867681</th>\n",
       "      <td>RR_ACC6_0840_U_Ord004</td>\n",
       "      <td>24:11:00</td>\n",
       "      <td>24:11:00</td>\n",
       "      <td>RS_ACC4_010000</td>\n",
       "      <td>47.0</td>\n",
       "      <td>1</td>\n",
       "      <td>0</td>\n",
       "      <td>1</td>\n",
       "    </tr>\n",
       "  </tbody>\n",
       "</table>\n",
       "<p>12516151 rows × 8 columns</p>\n",
       "</div>"
      ],
      "text/plain": [
       "                           trip_id arrival_time departure_time  \\\n",
       "1124      BR_1100_100000020_Ord001     09:00:00       09:00:00   \n",
       "1125      BR_1100_100000020_Ord001     09:01:42       09:01:52   \n",
       "1126      BR_1100_100000020_Ord001     09:02:23       09:02:33   \n",
       "1127      BR_1100_100000020_Ord001     09:04:20       09:04:30   \n",
       "1128      BR_1100_100000020_Ord001     09:05:34       09:05:44   \n",
       "...                            ...          ...            ...   \n",
       "20867670     RR_ACC6_0840_U_Ord003     21:25:00       21:26:00   \n",
       "20867671     RR_ACC6_0840_U_Ord003     21:46:00       21:46:00   \n",
       "20867679     RR_ACC6_0840_U_Ord004     23:22:00       23:23:00   \n",
       "20867680     RR_ACC6_0840_U_Ord004     23:49:00       23:51:00   \n",
       "20867681     RR_ACC6_0840_U_Ord004     24:11:00       24:11:00   \n",
       "\n",
       "                    stop_id  stop_sequence  pickup_type  drop_off_type  \\\n",
       "1124      BS_1100_100000419            1.0            0              0   \n",
       "1125      BS_1100_100000415            2.0            0              0   \n",
       "1126      BS_1100_100000416            3.0            0              0   \n",
       "1127      BS_1100_100000417            4.0            0              0   \n",
       "1128      BS_1100_100000418            5.0            0              0   \n",
       "...                     ...            ...          ...            ...   \n",
       "20867670     RS_ACC4_130126           39.0            0              0   \n",
       "20867671     RS_ACC4_010000           47.0            1              0   \n",
       "20867679     RS_ACC4_020524           23.0            0              0   \n",
       "20867680     RS_ACC4_130126           39.0            0              0   \n",
       "20867681     RS_ACC4_010000           47.0            1              0   \n",
       "\n",
       "          timepoint  \n",
       "1124              1  \n",
       "1125              1  \n",
       "1126              1  \n",
       "1127              1  \n",
       "1128              1  \n",
       "...             ...  \n",
       "20867670          1  \n",
       "20867671          1  \n",
       "20867679          1  \n",
       "20867680          1  \n",
       "20867681          1  \n",
       "\n",
       "[12516151 rows x 8 columns]"
      ]
     },
     "execution_count": 22,
     "metadata": {},
     "output_type": "execute_result"
    }
   ],
   "source": [
    "# 2. stop_times 전처리\n",
    "stop_id = stops['stop_id'].tolist()\n",
    "stop_times = stop_times[stop_times['stop_id'].isin(stop_id)]\n",
    "stop_times"
   ]
  },
  {
   "cell_type": "code",
   "execution_count": 23,
   "id": "a556c18b",
   "metadata": {},
   "outputs": [
    {
     "data": {
      "application/vnd.microsoft.datawrangler.viewer.v0+json": {
       "columns": [
        {
         "name": "index",
         "rawType": "int64",
         "type": "integer"
        },
        {
         "name": "route_id",
         "rawType": "object",
         "type": "string"
        },
        {
         "name": "service_id",
         "rawType": "object",
         "type": "string"
        },
        {
         "name": "trip_id",
         "rawType": "object",
         "type": "string"
        }
       ],
       "ref": "eeffa9c8-565e-4897-a3f3-d37c9f974a53",
       "rows": [
        [
         "0",
         "BR_3100_239000140",
         "B1",
         "BR_3100_239000140_Ord014"
        ],
        [
         "1",
         "BR_3100_241222003",
         "B1",
         "BR_3100_241222003_Ord041"
        ],
        [
         "2",
         "BR_3100_241224001",
         "B1",
         "BR_3100_241224001_Ord065"
        ],
        [
         "3",
         "BR_3100_241224001",
         "B1",
         "BR_3100_241224001_Ord078"
        ],
        [
         "4",
         "BR_3100_241224001",
         "B1",
         "BR_3100_241224001_Ord100"
        ],
        [
         "5",
         "BR_3100_241250001",
         "B1",
         "BR_3100_241250001_Ord083"
        ],
        [
         "6",
         "BR_3100_241310001",
         "B1",
         "BR_3100_241310001_Ord102"
        ],
        [
         "7",
         "BR_3100_241317017",
         "B1",
         "BR_3100_241317017_Ord014"
        ],
        [
         "8",
         "BR_3100_241374005",
         "B1",
         "BR_3100_241374005_Ord175"
        ],
        [
         "9",
         "BR_3100_241471008",
         "B1",
         "BR_3100_241471008_Ord002"
        ],
        [
         "12",
         "BR_TAGO_ICB165000072",
         "B1",
         "BR_TAGO_ICB165000072_Ord097"
        ],
        [
         "13",
         "BR_TAGO_ICB165000124",
         "B1",
         "BR_TAGO_ICB165000124_Ord004"
        ],
        [
         "14",
         "BR_TAGO_ICB168000031",
         "B1",
         "BR_TAGO_ICB168000031_Ord027"
        ],
        [
         "19",
         "BR_1100_100100352",
         "B1",
         "BR_1100_100100352_Ord027"
        ],
        [
         "20",
         "BR_3100_222000098",
         "B1",
         "BR_3100_222000098_Ord017"
        ],
        [
         "21",
         "BR_3100_225000004",
         "B1",
         "BR_3100_225000004_Ord033"
        ],
        [
         "22",
         "BR_3100_232000092",
         "B1",
         "BR_3100_232000092_Ord070"
        ],
        [
         "23",
         "BR_3100_232000112",
         "B1",
         "BR_3100_232000112_Ord047"
        ],
        [
         "24",
         "BR_3100_237000047",
         "B1",
         "BR_3100_237000047_Ord004"
        ],
        [
         "25",
         "BR_3100_240000049",
         "B1",
         "BR_3100_240000049_Ord005"
        ],
        [
         "26",
         "BR_3100_241216003",
         "B1",
         "BR_3100_241216003_Ord031"
        ],
        [
         "27",
         "BR_3100_241219001",
         "B1",
         "BR_3100_241219001_Ord054"
        ],
        [
         "28",
         "BR_ACC3_11000030-33030040-01_2D",
         "B1",
         "BR_ACC3_11000030-33030040-01_2D_Ord004"
        ],
        [
         "32",
         "BR_3100_241250001",
         "B1",
         "BR_3100_241250001_Ord045"
        ],
        [
         "33",
         "BR_1100_107900005",
         "B1",
         "BR_1100_107900005_Ord086"
        ],
        [
         "34",
         "BR_1100_107900005",
         "B1",
         "BR_1100_107900005_Ord110"
        ],
        [
         "35",
         "BR_1100_119900005",
         "B1",
         "BR_1100_119900005_Ord030"
        ],
        [
         "55",
         "BR_TAGO_ICB165000033",
         "B1",
         "BR_TAGO_ICB165000033_Ord068"
        ],
        [
         "58",
         "BR_3100_241408001",
         "B1",
         "BR_3100_241408001_Ord033"
        ],
        [
         "60",
         "BR_ACC3_11000012-33520020-01_1U",
         "B1",
         "BR_ACC3_11000012-33520020-01_1U_Ord015"
        ],
        [
         "63",
         "BR_ACC3_31020010-33040012-01_1U",
         "B1",
         "BR_ACC3_31020010-33040012-01_1U_Ord003"
        ],
        [
         "64",
         "BR_ACC3_31020010-33040012-01_1U",
         "B1",
         "BR_ACC3_31020010-33040012-01_1U_Ord020"
        ],
        [
         "78",
         "BR_3100_222000032",
         "B1",
         "BR_3100_222000032_Ord054"
        ],
        [
         "79",
         "BR_3100_223000082",
         "B1",
         "BR_3100_223000082_Ord059"
        ],
        [
         "80",
         "BR_3100_228000262",
         "B1",
         "BR_3100_228000262_Ord007"
        ],
        [
         "81",
         "BR_3100_228000263",
         "B1",
         "BR_3100_228000263_Ord016"
        ],
        [
         "82",
         "BR_3100_229000139",
         "B1",
         "BR_3100_229000139_Ord001"
        ],
        [
         "83",
         "BR_3100_232000103",
         "B1",
         "BR_3100_232000103_Ord034"
        ],
        [
         "84",
         "BR_3100_233000378",
         "B1",
         "BR_3100_233000378_Ord008"
        ],
        [
         "85",
         "BR_3100_233000378",
         "B1",
         "BR_3100_233000378_Ord022"
        ],
        [
         "86",
         "BR_3100_235000004",
         "B1",
         "BR_3100_235000004_Ord014"
        ],
        [
         "87",
         "BR_3100_241219002",
         "B1",
         "BR_3100_241219002_Ord006"
        ],
        [
         "88",
         "BR_3100_241224001",
         "B1",
         "BR_3100_241224001_Ord089"
        ],
        [
         "89",
         "BR_3100_241229001",
         "B1",
         "BR_3100_241229001_Ord031"
        ],
        [
         "90",
         "BR_3100_241250001",
         "B1",
         "BR_3100_241250001_Ord042"
        ],
        [
         "101",
         "BR_1100_100100012",
         "B1",
         "BR_1100_100100012_Ord090"
        ],
        [
         "102",
         "BR_1100_100100032",
         "B1",
         "BR_1100_100100032_Ord130"
        ],
        [
         "103",
         "BR_1100_100100085",
         "B1",
         "BR_1100_100100085_Ord059"
        ],
        [
         "110",
         "BR_3100_210000024",
         "B1",
         "BR_3100_210000024_Ord144"
        ],
        [
         "111",
         "BR_3100_216000006",
         "B1",
         "BR_3100_216000006_Ord042"
        ]
       ],
       "shape": {
        "columns": 3,
        "rows": 204923
       }
      },
      "text/html": [
       "<div>\n",
       "<style scoped>\n",
       "    .dataframe tbody tr th:only-of-type {\n",
       "        vertical-align: middle;\n",
       "    }\n",
       "\n",
       "    .dataframe tbody tr th {\n",
       "        vertical-align: top;\n",
       "    }\n",
       "\n",
       "    .dataframe thead th {\n",
       "        text-align: right;\n",
       "    }\n",
       "</style>\n",
       "<table border=\"1\" class=\"dataframe\">\n",
       "  <thead>\n",
       "    <tr style=\"text-align: right;\">\n",
       "      <th></th>\n",
       "      <th>route_id</th>\n",
       "      <th>service_id</th>\n",
       "      <th>trip_id</th>\n",
       "    </tr>\n",
       "  </thead>\n",
       "  <tbody>\n",
       "    <tr>\n",
       "      <th>0</th>\n",
       "      <td>BR_3100_239000140</td>\n",
       "      <td>B1</td>\n",
       "      <td>BR_3100_239000140_Ord014</td>\n",
       "    </tr>\n",
       "    <tr>\n",
       "      <th>1</th>\n",
       "      <td>BR_3100_241222003</td>\n",
       "      <td>B1</td>\n",
       "      <td>BR_3100_241222003_Ord041</td>\n",
       "    </tr>\n",
       "    <tr>\n",
       "      <th>2</th>\n",
       "      <td>BR_3100_241224001</td>\n",
       "      <td>B1</td>\n",
       "      <td>BR_3100_241224001_Ord065</td>\n",
       "    </tr>\n",
       "    <tr>\n",
       "      <th>3</th>\n",
       "      <td>BR_3100_241224001</td>\n",
       "      <td>B1</td>\n",
       "      <td>BR_3100_241224001_Ord078</td>\n",
       "    </tr>\n",
       "    <tr>\n",
       "      <th>4</th>\n",
       "      <td>BR_3100_241224001</td>\n",
       "      <td>B1</td>\n",
       "      <td>BR_3100_241224001_Ord100</td>\n",
       "    </tr>\n",
       "    <tr>\n",
       "      <th>...</th>\n",
       "      <td>...</td>\n",
       "      <td>...</td>\n",
       "      <td>...</td>\n",
       "    </tr>\n",
       "    <tr>\n",
       "      <th>349569</th>\n",
       "      <td>BR_3100_233000276</td>\n",
       "      <td>B1</td>\n",
       "      <td>BR_3100_233000276_Ord002</td>\n",
       "    </tr>\n",
       "    <tr>\n",
       "      <th>349570</th>\n",
       "      <td>BR_3100_234000003</td>\n",
       "      <td>B1</td>\n",
       "      <td>BR_3100_234000003_Ord040</td>\n",
       "    </tr>\n",
       "    <tr>\n",
       "      <th>349571</th>\n",
       "      <td>BR_3100_238000050</td>\n",
       "      <td>B1</td>\n",
       "      <td>BR_3100_238000050_Ord001</td>\n",
       "    </tr>\n",
       "    <tr>\n",
       "      <th>349573</th>\n",
       "      <td>BR_1100_100100268</td>\n",
       "      <td>B1</td>\n",
       "      <td>BR_1100_100100268_Ord029</td>\n",
       "    </tr>\n",
       "    <tr>\n",
       "      <th>349574</th>\n",
       "      <td>BR_1100_100100552</td>\n",
       "      <td>B1</td>\n",
       "      <td>BR_1100_100100552_Ord052</td>\n",
       "    </tr>\n",
       "  </tbody>\n",
       "</table>\n",
       "<p>204923 rows × 3 columns</p>\n",
       "</div>"
      ],
      "text/plain": [
       "                 route_id service_id                   trip_id\n",
       "0       BR_3100_239000140         B1  BR_3100_239000140_Ord014\n",
       "1       BR_3100_241222003         B1  BR_3100_241222003_Ord041\n",
       "2       BR_3100_241224001         B1  BR_3100_241224001_Ord065\n",
       "3       BR_3100_241224001         B1  BR_3100_241224001_Ord078\n",
       "4       BR_3100_241224001         B1  BR_3100_241224001_Ord100\n",
       "...                   ...        ...                       ...\n",
       "349569  BR_3100_233000276         B1  BR_3100_233000276_Ord002\n",
       "349570  BR_3100_234000003         B1  BR_3100_234000003_Ord040\n",
       "349571  BR_3100_238000050         B1  BR_3100_238000050_Ord001\n",
       "349573  BR_1100_100100268         B1  BR_1100_100100268_Ord029\n",
       "349574  BR_1100_100100552         B1  BR_1100_100100552_Ord052\n",
       "\n",
       "[204923 rows x 3 columns]"
      ]
     },
     "execution_count": 23,
     "metadata": {},
     "output_type": "execute_result"
    }
   ],
   "source": [
    "# 3. trips 전처리\n",
    "trip_id = stop_times['trip_id'].unique().tolist()\n",
    "trips = trips[trips['trip_id'].isin(trip_id)]\n",
    "trips"
   ]
  },
  {
   "cell_type": "code",
   "execution_count": 24,
   "id": "ff7d3cf9",
   "metadata": {},
   "outputs": [
    {
     "data": {
      "application/vnd.microsoft.datawrangler.viewer.v0+json": {
       "columns": [
        {
         "name": "index",
         "rawType": "int64",
         "type": "integer"
        },
        {
         "name": "route_id",
         "rawType": "object",
         "type": "string"
        },
        {
         "name": "agency_id",
         "rawType": "object",
         "type": "string"
        },
        {
         "name": "route_short_name",
         "rawType": "object",
         "type": "string"
        },
        {
         "name": "route_long_name",
         "rawType": "object",
         "type": "string"
        },
        {
         "name": "route_type",
         "rawType": "int64",
         "type": "integer"
        }
       ],
       "ref": "793f8c10-210a-4989-b8a8-df389e8f300d",
       "rows": [
        [
         "37",
         "BR_1100_100000020",
         "A1",
         "청와대A01(자율주행)",
         "-",
         "0"
        ],
        [
         "38",
         "BR_1100_100100001",
         "A1",
         "01",
         "-",
         "0"
        ],
        [
         "39",
         "BR_1100_100100006",
         "A1",
         "101",
         "-",
         "0"
        ],
        [
         "40",
         "BR_1100_100100007",
         "A1",
         "102",
         "-",
         "0"
        ],
        [
         "41",
         "BR_1100_100100008",
         "A1",
         "103",
         "-",
         "0"
        ],
        [
         "42",
         "BR_1100_100100009",
         "A1",
         "104",
         "-",
         "0"
        ],
        [
         "43",
         "BR_1100_100100010",
         "A1",
         "105",
         "-",
         "0"
        ],
        [
         "44",
         "BR_1100_100100011",
         "A1",
         "106",
         "-",
         "0"
        ],
        [
         "45",
         "BR_1100_100100012",
         "A1",
         "107",
         "-",
         "0"
        ],
        [
         "46",
         "BR_1100_100100014",
         "A1",
         "109",
         "-",
         "0"
        ],
        [
         "47",
         "BR_1100_100100015",
         "A1",
         "110B국민대",
         "-",
         "0"
        ],
        [
         "48",
         "BR_1100_100100016",
         "A1",
         "110A고려대",
         "-",
         "0"
        ],
        [
         "49",
         "BR_1100_100100017",
         "A1",
         "120",
         "-",
         "0"
        ],
        [
         "50",
         "BR_1100_100100018",
         "A1",
         "130",
         "-",
         "0"
        ],
        [
         "51",
         "BR_1100_100100019",
         "A1",
         "140",
         "-",
         "0"
        ],
        [
         "52",
         "BR_1100_100100020",
         "A1",
         "141",
         "-",
         "0"
        ],
        [
         "53",
         "BR_1100_100100021",
         "A1",
         "142",
         "-",
         "0"
        ],
        [
         "54",
         "BR_1100_100100022",
         "A1",
         "143",
         "-",
         "0"
        ],
        [
         "55",
         "BR_1100_100100023",
         "A1",
         "144",
         "-",
         "0"
        ],
        [
         "56",
         "BR_1100_100100024",
         "A1",
         "145",
         "-",
         "0"
        ],
        [
         "57",
         "BR_1100_100100025",
         "A1",
         "146",
         "-",
         "0"
        ],
        [
         "58",
         "BR_1100_100100026",
         "A1",
         "147",
         "-",
         "0"
        ],
        [
         "59",
         "BR_1100_100100027",
         "A1",
         "148",
         "-",
         "0"
        ],
        [
         "60",
         "BR_1100_100100029",
         "A1",
         "150",
         "-",
         "0"
        ],
        [
         "61",
         "BR_1100_100100030",
         "A1",
         "151",
         "-",
         "0"
        ],
        [
         "62",
         "BR_1100_100100031",
         "A1",
         "152",
         "-",
         "0"
        ],
        [
         "63",
         "BR_1100_100100032",
         "A1",
         "163",
         "-",
         "0"
        ],
        [
         "64",
         "BR_1100_100100033",
         "A1",
         "160",
         "-",
         "0"
        ],
        [
         "65",
         "BR_1100_100100034",
         "A1",
         "162",
         "-",
         "0"
        ],
        [
         "66",
         "BR_1100_100100036",
         "A1",
         "171",
         "-",
         "0"
        ],
        [
         "67",
         "BR_1100_100100037",
         "A1",
         "172",
         "-",
         "0"
        ],
        [
         "68",
         "BR_1100_100100038",
         "A1",
         "201",
         "-",
         "0"
        ],
        [
         "69",
         "BR_1100_100100039",
         "A1",
         "202",
         "-",
         "0"
        ],
        [
         "70",
         "BR_1100_100100042",
         "A1",
         "260",
         "-",
         "0"
        ],
        [
         "71",
         "BR_1100_100100043",
         "A1",
         "261",
         "-",
         "0"
        ],
        [
         "72",
         "BR_1100_100100044",
         "A1",
         "262",
         "-",
         "0"
        ],
        [
         "73",
         "BR_1100_100100046",
         "A1",
         "270",
         "-",
         "0"
        ],
        [
         "74",
         "BR_1100_100100047",
         "A1",
         "271",
         "-",
         "0"
        ],
        [
         "75",
         "BR_1100_100100048",
         "A1",
         "272",
         "-",
         "0"
        ],
        [
         "76",
         "BR_1100_100100049",
         "A1",
         "273",
         "-",
         "0"
        ],
        [
         "77",
         "BR_1100_100100051",
         "A1",
         "301",
         "-",
         "0"
        ],
        [
         "78",
         "BR_1100_100100052",
         "A1",
         "302",
         "-",
         "0"
        ],
        [
         "79",
         "BR_1100_100100053",
         "A1",
         "303",
         "-",
         "0"
        ],
        [
         "80",
         "BR_1100_100100055",
         "A1",
         "340",
         "-",
         "0"
        ],
        [
         "81",
         "BR_1100_100100056",
         "A1",
         "341",
         "-",
         "0"
        ],
        [
         "82",
         "BR_1100_100100057",
         "A1",
         "360",
         "-",
         "0"
        ],
        [
         "83",
         "BR_1100_100100061",
         "A1",
         "370",
         "-",
         "0"
        ],
        [
         "84",
         "BR_1100_100100062",
         "A1",
         "401",
         "-",
         "0"
        ],
        [
         "85",
         "BR_1100_100100063",
         "A1",
         "402",
         "-",
         "0"
        ],
        [
         "86",
         "BR_1100_100100064",
         "A1",
         "406",
         "-",
         "0"
        ]
       ],
       "shape": {
        "columns": 5,
        "rows": 5253
       }
      },
      "text/html": [
       "<div>\n",
       "<style scoped>\n",
       "    .dataframe tbody tr th:only-of-type {\n",
       "        vertical-align: middle;\n",
       "    }\n",
       "\n",
       "    .dataframe tbody tr th {\n",
       "        vertical-align: top;\n",
       "    }\n",
       "\n",
       "    .dataframe thead th {\n",
       "        text-align: right;\n",
       "    }\n",
       "</style>\n",
       "<table border=\"1\" class=\"dataframe\">\n",
       "  <thead>\n",
       "    <tr style=\"text-align: right;\">\n",
       "      <th></th>\n",
       "      <th>route_id</th>\n",
       "      <th>agency_id</th>\n",
       "      <th>route_short_name</th>\n",
       "      <th>route_long_name</th>\n",
       "      <th>route_type</th>\n",
       "    </tr>\n",
       "  </thead>\n",
       "  <tbody>\n",
       "    <tr>\n",
       "      <th>37</th>\n",
       "      <td>BR_1100_100000020</td>\n",
       "      <td>A1</td>\n",
       "      <td>청와대A01(자율주행)</td>\n",
       "      <td>-</td>\n",
       "      <td>0</td>\n",
       "    </tr>\n",
       "    <tr>\n",
       "      <th>38</th>\n",
       "      <td>BR_1100_100100001</td>\n",
       "      <td>A1</td>\n",
       "      <td>01</td>\n",
       "      <td>-</td>\n",
       "      <td>0</td>\n",
       "    </tr>\n",
       "    <tr>\n",
       "      <th>39</th>\n",
       "      <td>BR_1100_100100006</td>\n",
       "      <td>A1</td>\n",
       "      <td>101</td>\n",
       "      <td>-</td>\n",
       "      <td>0</td>\n",
       "    </tr>\n",
       "    <tr>\n",
       "      <th>40</th>\n",
       "      <td>BR_1100_100100007</td>\n",
       "      <td>A1</td>\n",
       "      <td>102</td>\n",
       "      <td>-</td>\n",
       "      <td>0</td>\n",
       "    </tr>\n",
       "    <tr>\n",
       "      <th>41</th>\n",
       "      <td>BR_1100_100100008</td>\n",
       "      <td>A1</td>\n",
       "      <td>103</td>\n",
       "      <td>-</td>\n",
       "      <td>0</td>\n",
       "    </tr>\n",
       "    <tr>\n",
       "      <th>...</th>\n",
       "      <td>...</td>\n",
       "      <td>...</td>\n",
       "      <td>...</td>\n",
       "      <td>...</td>\n",
       "      <td>...</td>\n",
       "    </tr>\n",
       "    <tr>\n",
       "      <th>26979</th>\n",
       "      <td>RR_ACC6_0730_U</td>\n",
       "      <td>A1</td>\n",
       "      <td>[KTX]중부내륙선(상행)</td>\n",
       "      <td>충주-부발</td>\n",
       "      <td>6</td>\n",
       "    </tr>\n",
       "    <tr>\n",
       "      <th>26980</th>\n",
       "      <td>RR_ACC6_0800_D</td>\n",
       "      <td>A1</td>\n",
       "      <td>[KTX]강릉선(하행)</td>\n",
       "      <td>행신-강릉</td>\n",
       "      <td>6</td>\n",
       "    </tr>\n",
       "    <tr>\n",
       "      <th>26981</th>\n",
       "      <td>RR_ACC6_0800_U</td>\n",
       "      <td>A1</td>\n",
       "      <td>[KTX]강릉선(상행)</td>\n",
       "      <td>강릉-행신</td>\n",
       "      <td>6</td>\n",
       "    </tr>\n",
       "    <tr>\n",
       "      <th>26982</th>\n",
       "      <td>RR_ACC6_0840_D</td>\n",
       "      <td>A1</td>\n",
       "      <td>[KTX]강릉선(하행)</td>\n",
       "      <td>행신-동해</td>\n",
       "      <td>6</td>\n",
       "    </tr>\n",
       "    <tr>\n",
       "      <th>26983</th>\n",
       "      <td>RR_ACC6_0840_U</td>\n",
       "      <td>A1</td>\n",
       "      <td>[KTX]강릉선(상행)</td>\n",
       "      <td>동해-행신</td>\n",
       "      <td>6</td>\n",
       "    </tr>\n",
       "  </tbody>\n",
       "</table>\n",
       "<p>5253 rows × 5 columns</p>\n",
       "</div>"
      ],
      "text/plain": [
       "                route_id agency_id route_short_name route_long_name  \\\n",
       "37     BR_1100_100000020        A1     청와대A01(자율주행)               -   \n",
       "38     BR_1100_100100001        A1               01               -   \n",
       "39     BR_1100_100100006        A1              101               -   \n",
       "40     BR_1100_100100007        A1              102               -   \n",
       "41     BR_1100_100100008        A1              103               -   \n",
       "...                  ...       ...              ...             ...   \n",
       "26979     RR_ACC6_0730_U        A1   [KTX]중부내륙선(상행)           충주-부발   \n",
       "26980     RR_ACC6_0800_D        A1     [KTX]강릉선(하행)           행신-강릉   \n",
       "26981     RR_ACC6_0800_U        A1     [KTX]강릉선(상행)           강릉-행신   \n",
       "26982     RR_ACC6_0840_D        A1     [KTX]강릉선(하행)           행신-동해   \n",
       "26983     RR_ACC6_0840_U        A1     [KTX]강릉선(상행)           동해-행신   \n",
       "\n",
       "       route_type  \n",
       "37              0  \n",
       "38              0  \n",
       "39              0  \n",
       "40              0  \n",
       "41              0  \n",
       "...           ...  \n",
       "26979           6  \n",
       "26980           6  \n",
       "26981           6  \n",
       "26982           6  \n",
       "26983           6  \n",
       "\n",
       "[5253 rows x 5 columns]"
      ]
     },
     "execution_count": 24,
     "metadata": {},
     "output_type": "execute_result"
    }
   ],
   "source": [
    "# 4. routes 전처리\n",
    "route_id = trips['route_id'].unique().tolist()\n",
    "routes = routes[routes['route_id'].isin(route_id)]\n",
    "routes"
   ]
  },
  {
   "cell_type": "code",
   "execution_count": 25,
   "id": "9dfc8465",
   "metadata": {},
   "outputs": [],
   "source": [
    "stops.to_csv('./stops.txt', index=False)\n",
    "stop_times.to_csv('./stop_times.txt', index=False)\n",
    "trips.to_csv('./trips.txt', index=False)\n",
    "routes.to_csv('./routes.txt', index=False)"
   ]
  }
 ],
 "metadata": {
  "kernelspec": {
   "display_name": "r5py",
   "language": "python",
   "name": "python3"
  },
  "language_info": {
   "codemirror_mode": {
    "name": "ipython",
    "version": 3
   },
   "file_extension": ".py",
   "mimetype": "text/x-python",
   "name": "python",
   "nbconvert_exporter": "python",
   "pygments_lexer": "ipython3",
   "version": "3.13.5"
  }
 },
 "nbformat": 4,
 "nbformat_minor": 5
}

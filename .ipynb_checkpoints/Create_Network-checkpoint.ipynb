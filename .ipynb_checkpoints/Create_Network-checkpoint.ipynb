{
 "cells": [
  {
   "cell_type": "markdown",
   "id": "8d8cc0b0",
   "metadata": {},
   "source": [
    "# Create a Network from GeoDataFrame"
   ]
  },
  {
   "cell_type": "markdown",
   "id": "a0564f91",
   "metadata": {},
   "source": [
    "<a href=https://osmnx.readthedocs.io/en/stable/user-reference.html#osmnx.convert.graph_from_gdfs>`ox.graph_from_gdfs`</a> is a function in the OSMnx library that allows you to create a graph from two GeoDataFrames: one for nodes and one for edges. This function is useful when you have spatial data in the form of GeoDataFrames and want to convert it into a graph structure for analysis or visualization.\n",
    "<br>\n",
    "\n",
    "osmnx.convert.graph_from_gdfs(gdf_nodes, gdf_edges, *, graph_attrs=None)\n",
    "\n",
    "To use this function, you need to match the nodes and edges in the GeoDataFrames with the graph structure. The nodes should be uniquely indexed by their IDs, and the edges should be uniquely multi-indexed by a combination of two nodes (u, v) and an optional key.\n",
    "* gdf_nodes (GeoDataFrame) – GeoDataFrame of graph nodes uniquely indexed by osmid.\n",
    "* gdf_edges (GeoDataFrame) – GeoDataFrame of graph edges uniquely multi-indexed by (u, v, key)."
   ]
  },
  {
   "cell_type": "code",
   "execution_count": 1,
   "id": "329a52e1",
   "metadata": {},
   "outputs": [],
   "source": [
    "# Import necessary libraries\n",
    "import geopandas as gpd\n",
    "import pandas as pd\n",
    "import networkx as nx\n",
    "import osmnx as ox\n",
    "from tqdm import tqdm"
   ]
  },
  {
   "cell_type": "markdown",
   "id": "244169c9",
   "metadata": {},
   "source": [
    "## 1. Create a geometry of a network"
   ]
  },
  {
   "cell_type": "code",
   "execution_count": 2,
   "id": "6bb5349e",
   "metadata": {},
   "outputs": [],
   "source": [
    "# Load data from ViewT (https://viewt.ktdb.go.kr/))\n",
    "nodes_viewt = gpd.read_file('./data/seoul_lev6/seoul_node_lev6_2023.shp', encoding='cp949')\n",
    "edges_viewt = gpd.read_file('./data/seoul_lev6/seoul_link_lev6_2023.shp', encoding='cp949')"
   ]
  },
  {
   "cell_type": "code",
   "execution_count": 3,
   "id": "4723ce39-edf3-4cc5-9acf-2eb63c5b7604",
   "metadata": {},
   "outputs": [
    {
     "data": {
      "text/html": [
       "<div>\n",
       "<style scoped>\n",
       "    .dataframe tbody tr th:only-of-type {\n",
       "        vertical-align: middle;\n",
       "    }\n",
       "\n",
       "    .dataframe tbody tr th {\n",
       "        vertical-align: top;\n",
       "    }\n",
       "\n",
       "    .dataframe thead th {\n",
       "        text-align: right;\n",
       "    }\n",
       "</style>\n",
       "<table border=\"1\" class=\"dataframe\">\n",
       "  <thead>\n",
       "    <tr style=\"text-align: right;\">\n",
       "      <th></th>\n",
       "      <th>geometry</th>\n",
       "    </tr>\n",
       "  </thead>\n",
       "  <tbody>\n",
       "    <tr>\n",
       "      <th>0</th>\n",
       "      <td>LINESTRING (944108.527 1944675.953, 944047.937...</td>\n",
       "    </tr>\n",
       "    <tr>\n",
       "      <th>1</th>\n",
       "      <td>LINESTRING (944456.454 1944199.04, 944567.445 ...</td>\n",
       "    </tr>\n",
       "    <tr>\n",
       "      <th>2</th>\n",
       "      <td>LINESTRING (944483.311 1944011.816, 944475.981...</td>\n",
       "    </tr>\n",
       "    <tr>\n",
       "      <th>3</th>\n",
       "      <td>LINESTRING (943755.2 1944786.539, 943633.191 1...</td>\n",
       "    </tr>\n",
       "    <tr>\n",
       "      <th>4</th>\n",
       "      <td>LINESTRING (944491.075 1943961.563, 944488.975...</td>\n",
       "    </tr>\n",
       "  </tbody>\n",
       "</table>\n",
       "</div>"
      ],
      "text/plain": [
       "                                            geometry\n",
       "0  LINESTRING (944108.527 1944675.953, 944047.937...\n",
       "1  LINESTRING (944456.454 1944199.04, 944567.445 ...\n",
       "2  LINESTRING (944483.311 1944011.816, 944475.981...\n",
       "3  LINESTRING (943755.2 1944786.539, 943633.191 1...\n",
       "4  LINESTRING (944491.075 1943961.563, 944488.975..."
      ]
     },
     "execution_count": 3,
     "metadata": {},
     "output_type": "execute_result"
    }
   ],
   "source": [
    "#nodes_viewt.head()\n",
    "edges_viewt.head()"
   ]
  },
  {
   "cell_type": "code",
   "execution_count": 4,
   "id": "6bdafb84",
   "metadata": {},
   "outputs": [
    {
     "data": {
      "text/html": [
       "<div>\n",
       "<style scoped>\n",
       "    .dataframe tbody tr th:only-of-type {\n",
       "        vertical-align: middle;\n",
       "    }\n",
       "\n",
       "    .dataframe tbody tr th {\n",
       "        vertical-align: top;\n",
       "    }\n",
       "\n",
       "    .dataframe thead th {\n",
       "        text-align: right;\n",
       "    }\n",
       "</style>\n",
       "<table border=\"1\" class=\"dataframe\">\n",
       "  <thead>\n",
       "    <tr style=\"text-align: right;\">\n",
       "      <th></th>\n",
       "      <th>geometry</th>\n",
       "      <th>ADM_NM</th>\n",
       "      <th>ADM_CD</th>\n",
       "    </tr>\n",
       "    <tr>\n",
       "      <th>BASE_DATE</th>\n",
       "      <th></th>\n",
       "      <th></th>\n",
       "      <th></th>\n",
       "    </tr>\n",
       "  </thead>\n",
       "  <tbody>\n",
       "    <tr>\n",
       "      <th>20230701</th>\n",
       "      <td>POLYGON ((965333.001 1943389.232, 965332.628 1...</td>\n",
       "      <td>장지동</td>\n",
       "      <td>11240810</td>\n",
       "    </tr>\n",
       "  </tbody>\n",
       "</table>\n",
       "</div>"
      ],
      "text/plain": [
       "                                                    geometry ADM_NM    ADM_CD\n",
       "BASE_DATE                                                                    \n",
       "20230701   POLYGON ((965333.001 1943389.232, 965332.628 1...    장지동  11240810"
      ]
     },
     "execution_count": 4,
     "metadata": {},
     "output_type": "execute_result"
    }
   ],
   "source": [
    "emd_gdf = gpd.read_file('./data/emd_5179.geojson')\n",
    "emd_gdf['ADM_CD'] = emd_gdf['ADM_CD'].astype(str)\n",
    "emd_gdf = emd_gdf.loc[emd_gdf['ADM_CD'].str.startswith('11240')]\n",
    "emd_gdf = emd_gdf.dissolve(by='BASE_DATE')\n",
    "emd_gdf"
   ]
  },
  {
   "cell_type": "code",
   "execution_count": 5,
   "id": "e686842c",
   "metadata": {},
   "outputs": [],
   "source": [
    "# Select only the nodes and edges that intersect with the EMD geometry\n",
    "# This is for a demonstration purpose\n",
    "nodes_viewt = nodes_viewt.loc[nodes_viewt['geometry'].intersects(emd_gdf['geometry'].values[0])]\n",
    "edges_viewt = edges_viewt.loc[edges_viewt['geometry'].intersects(emd_gdf['geometry'].values[0])]"
   ]
  },
  {
   "cell_type": "markdown",
   "id": "be92c8e6",
   "metadata": {},
   "source": [
    "## 2. Match the nodes with the graph structure"
   ]
  },
  {
   "cell_type": "code",
   "execution_count": 6,
   "id": "8ab91dcb",
   "metadata": {},
   "outputs": [
    {
     "data": {
      "text/html": [
       "<div>\n",
       "<style scoped>\n",
       "    .dataframe tbody tr th:only-of-type {\n",
       "        vertical-align: middle;\n",
       "    }\n",
       "\n",
       "    .dataframe tbody tr th {\n",
       "        vertical-align: top;\n",
       "    }\n",
       "\n",
       "    .dataframe thead th {\n",
       "        text-align: right;\n",
       "    }\n",
       "</style>\n",
       "<table border=\"1\" class=\"dataframe\">\n",
       "  <thead>\n",
       "    <tr style=\"text-align: right;\">\n",
       "      <th></th>\n",
       "      <th>node_id</th>\n",
       "      <th>node_type</th>\n",
       "      <th>node_name</th>\n",
       "      <th>num_link</th>\n",
       "      <th>turn_info</th>\n",
       "      <th>x</th>\n",
       "      <th>y</th>\n",
       "      <th>sido_id</th>\n",
       "      <th>sigungu_id</th>\n",
       "      <th>emd_id</th>\n",
       "      <th>m_date</th>\n",
       "      <th>rc_id</th>\n",
       "      <th>rc_hist</th>\n",
       "      <th>old_node_i</th>\n",
       "      <th>remark</th>\n",
       "      <th>tra_light</th>\n",
       "      <th>geometry</th>\n",
       "    </tr>\n",
       "  </thead>\n",
       "  <tbody>\n",
       "    <tr>\n",
       "      <th>9688</th>\n",
       "      <td>338281.0</td>\n",
       "      <td>101</td>\n",
       "      <td>None</td>\n",
       "      <td>3.0</td>\n",
       "      <td>None</td>\n",
       "      <td>962950.259</td>\n",
       "      <td>1944825.82</td>\n",
       "      <td>11000.0</td>\n",
       "      <td>11240.0</td>\n",
       "      <td>11240710.0</td>\n",
       "      <td>20171231.0</td>\n",
       "      <td>None</td>\n",
       "      <td>None</td>\n",
       "      <td>NaN</td>\n",
       "      <td>None</td>\n",
       "      <td>0</td>\n",
       "      <td>POINT (962950.259 1944825.82)</td>\n",
       "    </tr>\n",
       "    <tr>\n",
       "      <th>9689</th>\n",
       "      <td>338282.0</td>\n",
       "      <td>101</td>\n",
       "      <td>None</td>\n",
       "      <td>3.0</td>\n",
       "      <td>None</td>\n",
       "      <td>963075.868</td>\n",
       "      <td>1944820.362</td>\n",
       "      <td>11000.0</td>\n",
       "      <td>11240.0</td>\n",
       "      <td>11240710.0</td>\n",
       "      <td>20171231.0</td>\n",
       "      <td>None</td>\n",
       "      <td>None</td>\n",
       "      <td>NaN</td>\n",
       "      <td>None</td>\n",
       "      <td>0</td>\n",
       "      <td>POINT (963075.868 1944820.362)</td>\n",
       "    </tr>\n",
       "    <tr>\n",
       "      <th>9690</th>\n",
       "      <td>338283.0</td>\n",
       "      <td>101</td>\n",
       "      <td>None</td>\n",
       "      <td>3.0</td>\n",
       "      <td>None</td>\n",
       "      <td>963340.595</td>\n",
       "      <td>1944730.11</td>\n",
       "      <td>11000.0</td>\n",
       "      <td>11240.0</td>\n",
       "      <td>11240710.0</td>\n",
       "      <td>20171231.0</td>\n",
       "      <td>None</td>\n",
       "      <td>None</td>\n",
       "      <td>NaN</td>\n",
       "      <td>None</td>\n",
       "      <td>1</td>\n",
       "      <td>POINT (963340.595 1944730.11)</td>\n",
       "    </tr>\n",
       "  </tbody>\n",
       "</table>\n",
       "</div>"
      ],
      "text/plain": [
       "       node_id node_type node_name  num_link turn_info           x  \\\n",
       "9688  338281.0       101      None       3.0      None  962950.259   \n",
       "9689  338282.0       101      None       3.0      None  963075.868   \n",
       "9690  338283.0       101      None       3.0      None  963340.595   \n",
       "\n",
       "                y  sido_id  sigungu_id      emd_id      m_date rc_id rc_hist  \\\n",
       "9688   1944825.82  11000.0     11240.0  11240710.0  20171231.0  None    None   \n",
       "9689  1944820.362  11000.0     11240.0  11240710.0  20171231.0  None    None   \n",
       "9690   1944730.11  11000.0     11240.0  11240710.0  20171231.0  None    None   \n",
       "\n",
       "      old_node_i remark tra_light                        geometry  \n",
       "9688         NaN   None         0   POINT (962950.259 1944825.82)  \n",
       "9689         NaN   None         0  POINT (963075.868 1944820.362)  \n",
       "9690         NaN   None         1   POINT (963340.595 1944730.11)  "
      ]
     },
     "execution_count": 6,
     "metadata": {},
     "output_type": "execute_result"
    }
   ],
   "source": [
    "# Original data\n",
    "nodes_viewt.head(3)"
   ]
  },
  {
   "cell_type": "code",
   "execution_count": 7,
   "id": "38102592",
   "metadata": {},
   "outputs": [
    {
     "data": {
      "text/html": [
       "<div>\n",
       "<style scoped>\n",
       "    .dataframe tbody tr th:only-of-type {\n",
       "        vertical-align: middle;\n",
       "    }\n",
       "\n",
       "    .dataframe tbody tr th {\n",
       "        vertical-align: top;\n",
       "    }\n",
       "\n",
       "    .dataframe thead th {\n",
       "        text-align: right;\n",
       "    }\n",
       "</style>\n",
       "<table border=\"1\" class=\"dataframe\">\n",
       "  <thead>\n",
       "    <tr style=\"text-align: right;\">\n",
       "      <th></th>\n",
       "      <th>node_type</th>\n",
       "      <th>geometry</th>\n",
       "      <th>x</th>\n",
       "      <th>y</th>\n",
       "    </tr>\n",
       "    <tr>\n",
       "      <th>node_id</th>\n",
       "      <th></th>\n",
       "      <th></th>\n",
       "      <th></th>\n",
       "      <th></th>\n",
       "    </tr>\n",
       "  </thead>\n",
       "  <tbody>\n",
       "    <tr>\n",
       "      <th>338281</th>\n",
       "      <td>101</td>\n",
       "      <td>POINT (962950.259 1944825.82)</td>\n",
       "      <td>962950.258590</td>\n",
       "      <td>1.944826e+06</td>\n",
       "    </tr>\n",
       "    <tr>\n",
       "      <th>338282</th>\n",
       "      <td>101</td>\n",
       "      <td>POINT (963075.868 1944820.362)</td>\n",
       "      <td>963075.867524</td>\n",
       "      <td>1.944820e+06</td>\n",
       "    </tr>\n",
       "    <tr>\n",
       "      <th>338283</th>\n",
       "      <td>101</td>\n",
       "      <td>POINT (963340.595 1944730.11)</td>\n",
       "      <td>963340.594836</td>\n",
       "      <td>1.944730e+06</td>\n",
       "    </tr>\n",
       "  </tbody>\n",
       "</table>\n",
       "</div>"
      ],
      "text/plain": [
       "        node_type                        geometry              x             y\n",
       "node_id                                                                       \n",
       "338281        101   POINT (962950.259 1944825.82)  962950.258590  1.944826e+06\n",
       "338282        101  POINT (963075.868 1944820.362)  963075.867524  1.944820e+06\n",
       "338283        101   POINT (963340.595 1944730.11)  963340.594836  1.944730e+06"
      ]
     },
     "execution_count": 7,
     "metadata": {},
     "output_type": "execute_result"
    }
   ],
   "source": [
    "# Create a node gdf to be fed into OSMnx\n",
    "nodes_gdf = nodes_viewt.copy()\n",
    "\n",
    "nodes_gdf['node_id'] = nodes_gdf['node_id'].astype(int) # Remove decimal point\n",
    "nodes_gdf['node_id'] = nodes_gdf['node_id'].astype(str) # Change to string\n",
    "\n",
    "nodes_gdf['node_type'] = nodes_gdf['node_type'].astype(int) # Remove decimal point\n",
    "nodes_gdf['node_type'] = nodes_gdf['node_type'].astype(str) # Change to string\n",
    "\n",
    "# Assign the coordinates as columns\n",
    "nodes_gdf['y'] = nodes_gdf['geometry'].y\n",
    "nodes_gdf['x'] = nodes_gdf['geometry'].x\n",
    "\n",
    "nodes_gdf = nodes_gdf[['node_id', 'node_type', 'geometry', 'x', 'y']] # Remove unnecessary columns\n",
    "\n",
    "# Match Scheme with OSMnx\n",
    "nodes_gdf = nodes_gdf.set_index('node_id')\n",
    "\n",
    "nodes_gdf.head(3)"
   ]
  },
  {
   "cell_type": "markdown",
   "id": "75633dc6",
   "metadata": {},
   "source": [
    "## 3. Match the edges with the graph structure"
   ]
  },
  {
   "cell_type": "code",
   "execution_count": 8,
   "id": "f80e1d4d",
   "metadata": {},
   "outputs": [
    {
     "data": {
      "text/html": [
       "<div>\n",
       "<style scoped>\n",
       "    .dataframe tbody tr th:only-of-type {\n",
       "        vertical-align: middle;\n",
       "    }\n",
       "\n",
       "    .dataframe tbody tr th {\n",
       "        vertical-align: top;\n",
       "    }\n",
       "\n",
       "    .dataframe thead th {\n",
       "        text-align: right;\n",
       "    }\n",
       "</style>\n",
       "<table border=\"1\" class=\"dataframe\">\n",
       "  <thead>\n",
       "    <tr style=\"text-align: right;\">\n",
       "      <th></th>\n",
       "      <th>geometry</th>\n",
       "    </tr>\n",
       "  </thead>\n",
       "  <tbody>\n",
       "    <tr>\n",
       "      <th>20175</th>\n",
       "      <td>LINESTRING (966480.991 1944125.843, 966534.208...</td>\n",
       "    </tr>\n",
       "    <tr>\n",
       "      <th>20176</th>\n",
       "      <td>LINESTRING (966534.208 1944046.09, 966592.644 ...</td>\n",
       "    </tr>\n",
       "    <tr>\n",
       "      <th>20177</th>\n",
       "      <td>LINESTRING (966646.142 1944121.719, 966534.208...</td>\n",
       "    </tr>\n",
       "  </tbody>\n",
       "</table>\n",
       "</div>"
      ],
      "text/plain": [
       "                                                geometry\n",
       "20175  LINESTRING (966480.991 1944125.843, 966534.208...\n",
       "20176  LINESTRING (966534.208 1944046.09, 966592.644 ...\n",
       "20177  LINESTRING (966646.142 1944121.719, 966534.208..."
      ]
     },
     "execution_count": 8,
     "metadata": {},
     "output_type": "execute_result"
    }
   ],
   "source": [
    "# Original data\n",
    "edges_viewt.head(3)"
   ]
  },
  {
   "cell_type": "code",
   "execution_count": 9,
   "id": "a10c5c19",
   "metadata": {},
   "outputs": [
    {
     "data": {
      "text/plain": [
       "Index(['geometry'], dtype='object')"
      ]
     },
     "execution_count": 9,
     "metadata": {},
     "output_type": "execute_result"
    }
   ],
   "source": [
    "# Original data\n",
    "edges_viewt.columns"
   ]
  },
  {
   "cell_type": "code",
   "execution_count": 10,
   "id": "2a41f610",
   "metadata": {},
   "outputs": [
    {
     "name": "stderr",
     "output_type": "stream",
     "text": [
      "  0%|          | 0/2856 [00:00<?, ?it/s]\n"
     ]
    },
    {
     "ename": "KeyError",
     "evalue": "'oneway'",
     "output_type": "error",
     "traceback": [
      "\u001b[31m---------------------------------------------------------------------------\u001b[39m",
      "\u001b[31mKeyError\u001b[39m                                  Traceback (most recent call last)",
      "\u001b[36mFile \u001b[39m\u001b[32m~/.conda/envs/r5py/lib/python3.13/site-packages/pandas/core/indexes/base.py:3812\u001b[39m, in \u001b[36mIndex.get_loc\u001b[39m\u001b[34m(self, key)\u001b[39m\n\u001b[32m   3811\u001b[39m \u001b[38;5;28;01mtry\u001b[39;00m:\n\u001b[32m-> \u001b[39m\u001b[32m3812\u001b[39m     \u001b[38;5;28;01mreturn\u001b[39;00m \u001b[38;5;28;43mself\u001b[39;49m\u001b[43m.\u001b[49m\u001b[43m_engine\u001b[49m\u001b[43m.\u001b[49m\u001b[43mget_loc\u001b[49m\u001b[43m(\u001b[49m\u001b[43mcasted_key\u001b[49m\u001b[43m)\u001b[49m\n\u001b[32m   3813\u001b[39m \u001b[38;5;28;01mexcept\u001b[39;00m \u001b[38;5;167;01mKeyError\u001b[39;00m \u001b[38;5;28;01mas\u001b[39;00m err:\n",
      "\u001b[36mFile \u001b[39m\u001b[32mpandas/_libs/index.pyx:167\u001b[39m, in \u001b[36mpandas._libs.index.IndexEngine.get_loc\u001b[39m\u001b[34m()\u001b[39m\n",
      "\u001b[36mFile \u001b[39m\u001b[32mpandas/_libs/index.pyx:196\u001b[39m, in \u001b[36mpandas._libs.index.IndexEngine.get_loc\u001b[39m\u001b[34m()\u001b[39m\n",
      "\u001b[36mFile \u001b[39m\u001b[32mpandas/_libs/hashtable_class_helper.pxi:7088\u001b[39m, in \u001b[36mpandas._libs.hashtable.PyObjectHashTable.get_item\u001b[39m\u001b[34m()\u001b[39m\n",
      "\u001b[36mFile \u001b[39m\u001b[32mpandas/_libs/hashtable_class_helper.pxi:7096\u001b[39m, in \u001b[36mpandas._libs.hashtable.PyObjectHashTable.get_item\u001b[39m\u001b[34m()\u001b[39m\n",
      "\u001b[31mKeyError\u001b[39m: 'oneway'",
      "\nThe above exception was the direct cause of the following exception:\n",
      "\u001b[31mKeyError\u001b[39m                                  Traceback (most recent call last)",
      "\u001b[36mCell\u001b[39m\u001b[36m \u001b[39m\u001b[32mIn[10]\u001b[39m\u001b[32m, line 8\u001b[39m\n\u001b[32m      5\u001b[39m edges_gdf = gpd.GeoDataFrame()\n\u001b[32m      7\u001b[39m \u001b[38;5;28;01mfor\u001b[39;00m idx, row \u001b[38;5;129;01min\u001b[39;00m tqdm(edges_viewt.iterrows(), total=edges_viewt.shape[\u001b[32m0\u001b[39m]):\n\u001b[32m----> \u001b[39m\u001b[32m8\u001b[39m     \u001b[38;5;28;01mif\u001b[39;00m \u001b[43mrow\u001b[49m\u001b[43m[\u001b[49m\u001b[33;43m'\u001b[39;49m\u001b[33;43moneway\u001b[39;49m\u001b[33;43m'\u001b[39;49m\u001b[43m]\u001b[49m == \u001b[32m0\u001b[39m: \u001b[38;5;66;03m# If the road is two-way, duplicate the row with reversed geometry\u001b[39;00m\n\u001b[32m      9\u001b[39m         \u001b[38;5;66;03m# Create a new row with non-reversed geometry\u001b[39;00m\n\u001b[32m     10\u001b[39m         edges_gdf = pd.concat([gpd.GeoDataFrame({\u001b[33m'\u001b[39m\u001b[33mlink_id\u001b[39m\u001b[33m'\u001b[39m: row[\u001b[33m'\u001b[39m\u001b[33mup_v_link\u001b[39m\u001b[33m'\u001b[39m], \n\u001b[32m     11\u001b[39m                                             \u001b[33m'\u001b[39m\u001b[33mf_node\u001b[39m\u001b[33m'\u001b[39m: row[\u001b[33m'\u001b[39m\u001b[33mup_f_node\u001b[39m\u001b[33m'\u001b[39m], \n\u001b[32m     12\u001b[39m                                             \u001b[33m'\u001b[39m\u001b[33mt_node\u001b[39m\u001b[33m'\u001b[39m: row[\u001b[33m'\u001b[39m\u001b[33mup_t_node\u001b[39m\u001b[33m'\u001b[39m], \n\u001b[32m   (...)\u001b[39m\u001b[32m     17\u001b[39m                                             \u001b[33m'\u001b[39m\u001b[33mgeometry\u001b[39m\u001b[33m'\u001b[39m: row[\u001b[33m'\u001b[39m\u001b[33mgeometry\u001b[39m\u001b[33m'\u001b[39m]\n\u001b[32m     18\u001b[39m                                             }, index=[\u001b[32m0\u001b[39m]), edges_gdf])\n\u001b[32m     20\u001b[39m         \u001b[38;5;66;03m# Add the reverse direction\u001b[39;00m\n",
      "\u001b[36mFile \u001b[39m\u001b[32m~/.conda/envs/r5py/lib/python3.13/site-packages/pandas/core/series.py:1130\u001b[39m, in \u001b[36mSeries.__getitem__\u001b[39m\u001b[34m(self, key)\u001b[39m\n\u001b[32m   1127\u001b[39m     \u001b[38;5;28;01mreturn\u001b[39;00m \u001b[38;5;28mself\u001b[39m._values[key]\n\u001b[32m   1129\u001b[39m \u001b[38;5;28;01melif\u001b[39;00m key_is_scalar:\n\u001b[32m-> \u001b[39m\u001b[32m1130\u001b[39m     \u001b[38;5;28;01mreturn\u001b[39;00m \u001b[38;5;28;43mself\u001b[39;49m\u001b[43m.\u001b[49m\u001b[43m_get_value\u001b[49m\u001b[43m(\u001b[49m\u001b[43mkey\u001b[49m\u001b[43m)\u001b[49m\n\u001b[32m   1132\u001b[39m \u001b[38;5;66;03m# Convert generator to list before going through hashable part\u001b[39;00m\n\u001b[32m   1133\u001b[39m \u001b[38;5;66;03m# (We will iterate through the generator there to check for slices)\u001b[39;00m\n\u001b[32m   1134\u001b[39m \u001b[38;5;28;01mif\u001b[39;00m is_iterator(key):\n",
      "\u001b[36mFile \u001b[39m\u001b[32m~/.conda/envs/r5py/lib/python3.13/site-packages/pandas/core/series.py:1246\u001b[39m, in \u001b[36mSeries._get_value\u001b[39m\u001b[34m(self, label, takeable)\u001b[39m\n\u001b[32m   1243\u001b[39m     \u001b[38;5;28;01mreturn\u001b[39;00m \u001b[38;5;28mself\u001b[39m._values[label]\n\u001b[32m   1245\u001b[39m \u001b[38;5;66;03m# Similar to Index.get_value, but we do not fall back to positional\u001b[39;00m\n\u001b[32m-> \u001b[39m\u001b[32m1246\u001b[39m loc = \u001b[38;5;28;43mself\u001b[39;49m\u001b[43m.\u001b[49m\u001b[43mindex\u001b[49m\u001b[43m.\u001b[49m\u001b[43mget_loc\u001b[49m\u001b[43m(\u001b[49m\u001b[43mlabel\u001b[49m\u001b[43m)\u001b[49m\n\u001b[32m   1248\u001b[39m \u001b[38;5;28;01mif\u001b[39;00m is_integer(loc):\n\u001b[32m   1249\u001b[39m     \u001b[38;5;28;01mreturn\u001b[39;00m \u001b[38;5;28mself\u001b[39m._values[loc]\n",
      "\u001b[36mFile \u001b[39m\u001b[32m~/.conda/envs/r5py/lib/python3.13/site-packages/pandas/core/indexes/base.py:3819\u001b[39m, in \u001b[36mIndex.get_loc\u001b[39m\u001b[34m(self, key)\u001b[39m\n\u001b[32m   3814\u001b[39m     \u001b[38;5;28;01mif\u001b[39;00m \u001b[38;5;28misinstance\u001b[39m(casted_key, \u001b[38;5;28mslice\u001b[39m) \u001b[38;5;129;01mor\u001b[39;00m (\n\u001b[32m   3815\u001b[39m         \u001b[38;5;28misinstance\u001b[39m(casted_key, abc.Iterable)\n\u001b[32m   3816\u001b[39m         \u001b[38;5;129;01mand\u001b[39;00m \u001b[38;5;28many\u001b[39m(\u001b[38;5;28misinstance\u001b[39m(x, \u001b[38;5;28mslice\u001b[39m) \u001b[38;5;28;01mfor\u001b[39;00m x \u001b[38;5;129;01min\u001b[39;00m casted_key)\n\u001b[32m   3817\u001b[39m     ):\n\u001b[32m   3818\u001b[39m         \u001b[38;5;28;01mraise\u001b[39;00m InvalidIndexError(key)\n\u001b[32m-> \u001b[39m\u001b[32m3819\u001b[39m     \u001b[38;5;28;01mraise\u001b[39;00m \u001b[38;5;167;01mKeyError\u001b[39;00m(key) \u001b[38;5;28;01mfrom\u001b[39;00m\u001b[38;5;250m \u001b[39m\u001b[34;01merr\u001b[39;00m\n\u001b[32m   3820\u001b[39m \u001b[38;5;28;01mexcept\u001b[39;00m \u001b[38;5;167;01mTypeError\u001b[39;00m:\n\u001b[32m   3821\u001b[39m     \u001b[38;5;66;03m# If we have a listlike key, _check_indexing_error will raise\u001b[39;00m\n\u001b[32m   3822\u001b[39m     \u001b[38;5;66;03m#  InvalidIndexError. Otherwise we fall through and re-raise\u001b[39;00m\n\u001b[32m   3823\u001b[39m     \u001b[38;5;66;03m#  the TypeError.\u001b[39;00m\n\u001b[32m   3824\u001b[39m     \u001b[38;5;28mself\u001b[39m._check_indexing_error(key)\n",
      "\u001b[31mKeyError\u001b[39m: 'oneway'"
     ]
    }
   ],
   "source": [
    "# To become a MultiDiGraph, the edges should be duplicated for two-way roads\n",
    "# and the geometry should be reversed for the reverse direction\n",
    "# If the road is one-way, the geometry should be kept as is\n",
    "\n",
    "edges_gdf = gpd.GeoDataFrame()\n",
    "\n",
    "for idx, row in tqdm(edges_viewt.iterrows(), total=edges_viewt.shape[0]):\n",
    "    if row['oneway'] == 0: # If the road is two-way, duplicate the row with reversed geometry\n",
    "        # Create a new row with non-reversed geometry\n",
    "        edges_gdf = pd.concat([gpd.GeoDataFrame({'link_id': row['up_v_link'], \n",
    "                                            'f_node': row['up_f_node'], \n",
    "                                            't_node': row['up_t_node'], \n",
    "                                            'max_speed': row['max_speed'],\n",
    "                                            'road_name': row['road_name'],\n",
    "                                            'road_rank': row['road_rank'],\n",
    "                                            'link_type': row['link_type'],\n",
    "                                            'geometry': row['geometry']\n",
    "                                            }, index=[0]), edges_gdf])\n",
    "        \n",
    "        # Add the reverse direction\n",
    "        edges_gdf = pd.concat([gpd.GeoDataFrame({'link_id': row['dw_v_link'], \n",
    "                                            'f_node': row['dw_f_node'], \n",
    "                                            't_node': row['dw_t_node'], \n",
    "                                            'max_speed': row['max_speed'],\n",
    "                                            'road_name': row['road_name'],\n",
    "                                            'road_rank': row['road_rank'],\n",
    "                                            'link_type': row['link_type'],\n",
    "                                            'geometry': row['geometry'].reverse()\n",
    "                                            }, index=[0]), edges_gdf])\n",
    "    else:\n",
    "        # If the road is one-way, keep the row as is\n",
    "        edges_gdf = pd.concat([gpd.GeoDataFrame({'link_id': row['up_v_link'], \n",
    "                                            'f_node': row['up_f_node'], \n",
    "                                            't_node': row['up_t_node'], \n",
    "                                            'max_speed': row['max_speed'],\n",
    "                                            'road_name': row['road_name'],\n",
    "                                            'road_rank': row['road_rank'],\n",
    "                                            'link_type': row['link_type'],\n",
    "                                            'geometry': row['geometry']\n",
    "                                            }, index=[0]), edges_gdf])\n",
    "\n",
    "# Reset the index\n",
    "edges_gdf = edges_gdf.reset_index(drop=True)\n",
    "\n",
    "# Assign the same CRS \n",
    "edges_gdf = edges_gdf.set_crs(edges_viewt.crs) \n",
    "edges_gdf"
   ]
  },
  {
   "cell_type": "code",
   "execution_count": null,
   "id": "b7bee7b7",
   "metadata": {},
   "outputs": [],
   "source": [
    "edges_gdf['length'] = edges_gdf.apply(lambda x: x['geometry'].length, axis=1) # Calculate length in meters\n",
    "\n",
    "# Change the data type of columns\n",
    "edges_gdf['link_id'] = edges_gdf['link_id'].astype(int) # Remove decimal point\n",
    "edges_gdf['link_id'] = edges_gdf['link_id'].astype(str) # Change to string\n",
    "\n",
    "edges_gdf['f_node'] = edges_gdf['f_node'].astype(int) # Remove decimal point\n",
    "edges_gdf['f_node'] = edges_gdf['f_node'].astype(str) # Change to string\n",
    "\n",
    "edges_gdf['t_node'] = edges_gdf['t_node'].astype(int) # Remove decimal point\n",
    "edges_gdf['t_node'] = edges_gdf['t_node'].astype(str) # Change to string\n",
    "\n",
    "edges_gdf['road_rank'] = edges_gdf['road_rank'].astype(int) # Remove decimal point\n",
    "edges_gdf['road_rank'] = edges_gdf['road_rank'].astype(str) # Change to string\n",
    "\n",
    "edges_gdf['link_type'] = edges_gdf['link_type'].astype(int) # Remove decimal point\n",
    "edges_gdf['link_type'] = edges_gdf['link_type'].astype(str) # Change to string\n",
    "\n",
    "edges_gdf['max_speed'] = edges_gdf['max_speed'].astype(int) # Remove decimal point\n",
    "\n",
    "edges_gdf"
   ]
  },
  {
   "cell_type": "markdown",
   "id": "3dfdcf26",
   "metadata": {},
   "source": [
    "## 4. Assign information (travel speed and travel time) to the edges"
   ]
  },
  {
   "cell_type": "code",
   "execution_count": 11,
   "id": "eeafa8f5",
   "metadata": {},
   "outputs": [
    {
     "data": {
      "text/html": [
       "<div>\n",
       "<style scoped>\n",
       "    .dataframe tbody tr th:only-of-type {\n",
       "        vertical-align: middle;\n",
       "    }\n",
       "\n",
       "    .dataframe tbody tr th {\n",
       "        vertical-align: top;\n",
       "    }\n",
       "\n",
       "    .dataframe thead th {\n",
       "        text-align: right;\n",
       "    }\n",
       "</style>\n",
       "<table border=\"1\" class=\"dataframe\">\n",
       "  <thead>\n",
       "    <tr style=\"text-align: right;\">\n",
       "      <th></th>\n",
       "      <th>﻿level6 LINK ID</th>\n",
       "      <th>연월</th>\n",
       "      <th>평일 / 주말</th>\n",
       "      <th>주요시간대</th>\n",
       "      <th>도로등급</th>\n",
       "      <th>시도명</th>\n",
       "      <th>시군구명</th>\n",
       "      <th>읍면동명</th>\n",
       "      <th>15% 주행속도 (km/h)</th>\n",
       "      <th>25% 주행속도 (km/h)</th>\n",
       "      <th>30% 주행속도 (km/h)</th>\n",
       "      <th>50% 주행속도 (km/h)</th>\n",
       "      <th>75% 주행속도 (km/h)</th>\n",
       "      <th>85% 주행속도 (km/h)</th>\n",
       "      <th>평균속도 (km/h)</th>\n",
       "      <th>속도 표준편차 (km/h)</th>\n",
       "      <th>최대속도 (km/h)</th>\n",
       "    </tr>\n",
       "  </thead>\n",
       "  <tbody>\n",
       "    <tr>\n",
       "      <th>0</th>\n",
       "      <td>47771326001</td>\n",
       "      <td>202310</td>\n",
       "      <td>평일</td>\n",
       "      <td>7</td>\n",
       "      <td>고속도로</td>\n",
       "      <td>서울특별시</td>\n",
       "      <td>강서구</td>\n",
       "      <td>방화3동</td>\n",
       "      <td>84</td>\n",
       "      <td>88</td>\n",
       "      <td>90</td>\n",
       "      <td>96</td>\n",
       "      <td>103</td>\n",
       "      <td>107</td>\n",
       "      <td>95.91</td>\n",
       "      <td>11.58</td>\n",
       "      <td>149</td>\n",
       "    </tr>\n",
       "    <tr>\n",
       "      <th>1</th>\n",
       "      <td>47771347001</td>\n",
       "      <td>202310</td>\n",
       "      <td>평일</td>\n",
       "      <td>7</td>\n",
       "      <td>고속도로</td>\n",
       "      <td>서울특별시</td>\n",
       "      <td>강서구</td>\n",
       "      <td>방화3동</td>\n",
       "      <td>84</td>\n",
       "      <td>88</td>\n",
       "      <td>89</td>\n",
       "      <td>95</td>\n",
       "      <td>103</td>\n",
       "      <td>108</td>\n",
       "      <td>95.48</td>\n",
       "      <td>11.48</td>\n",
       "      <td>131</td>\n",
       "    </tr>\n",
       "    <tr>\n",
       "      <th>2</th>\n",
       "      <td>47771447401</td>\n",
       "      <td>202310</td>\n",
       "      <td>평일</td>\n",
       "      <td>7</td>\n",
       "      <td>고속도로</td>\n",
       "      <td>서울특별시</td>\n",
       "      <td>강서구</td>\n",
       "      <td>방화2동</td>\n",
       "      <td>85</td>\n",
       "      <td>89</td>\n",
       "      <td>91</td>\n",
       "      <td>96</td>\n",
       "      <td>103</td>\n",
       "      <td>106</td>\n",
       "      <td>95.69</td>\n",
       "      <td>10.44</td>\n",
       "      <td>146</td>\n",
       "    </tr>\n",
       "  </tbody>\n",
       "</table>\n",
       "</div>"
      ],
      "text/plain": [
       "   ﻿level6 LINK ID      연월 평일 / 주말  주요시간대  도로등급    시도명 시군구명  읍면동명  \\\n",
       "0      47771326001  202310      평일      7  고속도로  서울특별시  강서구  방화3동   \n",
       "1      47771347001  202310      평일      7  고속도로  서울특별시  강서구  방화3동   \n",
       "2      47771447401  202310      평일      7  고속도로  서울특별시  강서구  방화2동   \n",
       "\n",
       "   15% 주행속도 (km/h)  25% 주행속도 (km/h)  30% 주행속도 (km/h)  50% 주행속도 (km/h)  \\\n",
       "0               84               88               90               96   \n",
       "1               84               88               89               95   \n",
       "2               85               89               91               96   \n",
       "\n",
       "   75% 주행속도 (km/h)  85% 주행속도 (km/h)  평균속도 (km/h)  속도 표준편차 (km/h)  최대속도 (km/h)  \n",
       "0              103              107        95.91           11.58          149  \n",
       "1              103              108        95.48           11.48          131  \n",
       "2              103              106        95.69           10.44          146  "
      ]
     },
     "execution_count": 11,
     "metadata": {},
     "output_type": "execute_result"
    }
   ],
   "source": [
    "# Load speed data, also from ViewT\n",
    "speed_df = pd.read_csv('./data/PercentileSpeed_202310.csv')\n",
    "speed_df.head(3)"
   ]
  },
  {
   "cell_type": "code",
   "execution_count": 12,
   "id": "9c93ac94",
   "metadata": {},
   "outputs": [
    {
     "data": {
      "text/html": [
       "<div>\n",
       "<style scoped>\n",
       "    .dataframe tbody tr th:only-of-type {\n",
       "        vertical-align: middle;\n",
       "    }\n",
       "\n",
       "    .dataframe tbody tr th {\n",
       "        vertical-align: top;\n",
       "    }\n",
       "\n",
       "    .dataframe thead th {\n",
       "        text-align: right;\n",
       "    }\n",
       "</style>\n",
       "<table border=\"1\" class=\"dataframe\">\n",
       "  <thead>\n",
       "    <tr style=\"text-align: right;\">\n",
       "      <th></th>\n",
       "      <th>link_id</th>\n",
       "      <th>speed</th>\n",
       "    </tr>\n",
       "  </thead>\n",
       "  <tbody>\n",
       "    <tr>\n",
       "      <th>0</th>\n",
       "      <td>47771326001</td>\n",
       "      <td>90</td>\n",
       "    </tr>\n",
       "    <tr>\n",
       "      <th>1</th>\n",
       "      <td>47771347001</td>\n",
       "      <td>89</td>\n",
       "    </tr>\n",
       "    <tr>\n",
       "      <th>2</th>\n",
       "      <td>47771447401</td>\n",
       "      <td>91</td>\n",
       "    </tr>\n",
       "    <tr>\n",
       "      <th>3</th>\n",
       "      <td>47771448501</td>\n",
       "      <td>96</td>\n",
       "    </tr>\n",
       "    <tr>\n",
       "      <th>4</th>\n",
       "      <td>47771849901</td>\n",
       "      <td>89</td>\n",
       "    </tr>\n",
       "    <tr>\n",
       "      <th>...</th>\n",
       "      <td>...</td>\n",
       "      <td>...</td>\n",
       "    </tr>\n",
       "    <tr>\n",
       "      <th>2829</th>\n",
       "      <td>92183334601</td>\n",
       "      <td>33</td>\n",
       "    </tr>\n",
       "    <tr>\n",
       "      <th>2830</th>\n",
       "      <td>202300210301</td>\n",
       "      <td>35</td>\n",
       "    </tr>\n",
       "    <tr>\n",
       "      <th>2831</th>\n",
       "      <td>202300210401</td>\n",
       "      <td>42</td>\n",
       "    </tr>\n",
       "    <tr>\n",
       "      <th>2832</th>\n",
       "      <td>202300210501</td>\n",
       "      <td>55</td>\n",
       "    </tr>\n",
       "    <tr>\n",
       "      <th>2833</th>\n",
       "      <td>202300210601</td>\n",
       "      <td>55</td>\n",
       "    </tr>\n",
       "  </tbody>\n",
       "</table>\n",
       "<p>2834 rows × 2 columns</p>\n",
       "</div>"
      ],
      "text/plain": [
       "           link_id  speed\n",
       "0      47771326001     90\n",
       "1      47771347001     89\n",
       "2      47771447401     91\n",
       "3      47771448501     96\n",
       "4      47771849901     89\n",
       "...            ...    ...\n",
       "2829   92183334601     33\n",
       "2830  202300210301     35\n",
       "2831  202300210401     42\n",
       "2832  202300210501     55\n",
       "2833  202300210601     55\n",
       "\n",
       "[2834 rows x 2 columns]"
      ]
     },
     "execution_count": 12,
     "metadata": {},
     "output_type": "execute_result"
    }
   ],
   "source": [
    "# Select only the necessary columns\n",
    "speed_df = speed_df[['﻿level6 LINK ID',  '30% 주행속도 (km/h)']]\n",
    "speed_df = speed_df.rename(columns={'﻿level6 LINK ID': 'link_id', '30% 주행속도 (km/h)': 'speed'})\n",
    "                                    # '평균속도 (km/h)': 'avg_speed'})\n",
    "speed_df['link_id'] = speed_df['link_id'].astype(str)\n",
    "speed_df"
   ]
  },
  {
   "cell_type": "code",
   "execution_count": 13,
   "id": "379169c9",
   "metadata": {},
   "outputs": [
    {
     "ename": "KeyError",
     "evalue": "'link_id'",
     "output_type": "error",
     "traceback": [
      "\u001b[31m---------------------------------------------------------------------------\u001b[39m",
      "\u001b[31mKeyError\u001b[39m                                  Traceback (most recent call last)",
      "\u001b[32m/tmp/ipykernel_294489/900951153.py\u001b[39m in \u001b[36m?\u001b[39m\u001b[34m()\u001b[39m\n\u001b[32m      1\u001b[39m \u001b[38;5;66;03m# Merge the speed data with the edges data\u001b[39;00m\n\u001b[32m----> \u001b[39m\u001b[32m2\u001b[39m edges_gdf = edges_gdf.merge(speed_df, on=\u001b[33m'link_id'\u001b[39m, how=\u001b[33m'left'\u001b[39m)\n\u001b[32m      3\u001b[39m edges_gdf\n",
      "\u001b[32m~/.conda/envs/r5py/lib/python3.13/site-packages/pandas/core/frame.py\u001b[39m in \u001b[36m?\u001b[39m\u001b[34m(self, right, how, on, left_on, right_on, left_index, right_index, sort, suffixes, copy, indicator, validate)\u001b[39m\n\u001b[32m  10835\u001b[39m         validate: MergeValidate | \u001b[38;5;28;01mNone\u001b[39;00m = \u001b[38;5;28;01mNone\u001b[39;00m,\n\u001b[32m  10836\u001b[39m     ) -> DataFrame:\n\u001b[32m  10837\u001b[39m         \u001b[38;5;28;01mfrom\u001b[39;00m pandas.core.reshape.merge \u001b[38;5;28;01mimport\u001b[39;00m merge\n\u001b[32m  10838\u001b[39m \n\u001b[32m> \u001b[39m\u001b[32m10839\u001b[39m         return merge(\n\u001b[32m  10840\u001b[39m             self,\n\u001b[32m  10841\u001b[39m             right,\n\u001b[32m  10842\u001b[39m             how=how,\n",
      "\u001b[32m~/.conda/envs/r5py/lib/python3.13/site-packages/pandas/core/reshape/merge.py\u001b[39m in \u001b[36m?\u001b[39m\u001b[34m(left, right, how, on, left_on, right_on, left_index, right_index, sort, suffixes, copy, indicator, validate)\u001b[39m\n\u001b[32m    166\u001b[39m             validate=validate,\n\u001b[32m    167\u001b[39m             copy=copy,\n\u001b[32m    168\u001b[39m         )\n\u001b[32m    169\u001b[39m     \u001b[38;5;28;01melse\u001b[39;00m:\n\u001b[32m--> \u001b[39m\u001b[32m170\u001b[39m         op = _MergeOperation(\n\u001b[32m    171\u001b[39m             left_df,\n\u001b[32m    172\u001b[39m             right_df,\n\u001b[32m    173\u001b[39m             how=how,\n",
      "\u001b[32m~/.conda/envs/r5py/lib/python3.13/site-packages/pandas/core/reshape/merge.py\u001b[39m in \u001b[36m?\u001b[39m\u001b[34m(self, left, right, how, on, left_on, right_on, left_index, right_index, sort, suffixes, indicator, validate)\u001b[39m\n\u001b[32m    790\u001b[39m             self.right_join_keys,\n\u001b[32m    791\u001b[39m             self.join_names,\n\u001b[32m    792\u001b[39m             left_drop,\n\u001b[32m    793\u001b[39m             right_drop,\n\u001b[32m--> \u001b[39m\u001b[32m794\u001b[39m         ) = self._get_merge_keys()\n\u001b[32m    795\u001b[39m \n\u001b[32m    796\u001b[39m         \u001b[38;5;28;01mif\u001b[39;00m left_drop:\n\u001b[32m    797\u001b[39m             self.left = self.left._drop_labels_or_levels(left_drop)\n",
      "\u001b[32m~/.conda/envs/r5py/lib/python3.13/site-packages/pandas/core/reshape/merge.py\u001b[39m in \u001b[36m?\u001b[39m\u001b[34m(self)\u001b[39m\n\u001b[32m   1307\u001b[39m                     \u001b[38;5;28;01mif\u001b[39;00m lk \u001b[38;5;28;01mis\u001b[39;00m \u001b[38;5;28;01mnot\u001b[39;00m \u001b[38;5;28;01mNone\u001b[39;00m:\n\u001b[32m   1308\u001b[39m                         \u001b[38;5;66;03m# Then we're either Hashable or a wrong-length arraylike,\u001b[39;00m\n\u001b[32m   1309\u001b[39m                         \u001b[38;5;66;03m#  the latter of which will raise\u001b[39;00m\n\u001b[32m   1310\u001b[39m                         lk = cast(Hashable, lk)\n\u001b[32m-> \u001b[39m\u001b[32m1311\u001b[39m                         left_keys.append(left._get_label_or_level_values(lk))\n\u001b[32m   1312\u001b[39m                         join_names.append(lk)\n\u001b[32m   1313\u001b[39m                     \u001b[38;5;28;01melse\u001b[39;00m:\n\u001b[32m   1314\u001b[39m                         \u001b[38;5;66;03m# work-around for merge_asof(left_index=True)\u001b[39;00m\n",
      "\u001b[32m~/.conda/envs/r5py/lib/python3.13/site-packages/pandas/core/generic.py\u001b[39m in \u001b[36m?\u001b[39m\u001b[34m(self, key, axis)\u001b[39m\n\u001b[32m   1907\u001b[39m             values = self.xs(key, axis=other_axes[\u001b[32m0\u001b[39m])._values\n\u001b[32m   1908\u001b[39m         \u001b[38;5;28;01melif\u001b[39;00m self._is_level_reference(key, axis=axis):\n\u001b[32m   1909\u001b[39m             values = self.axes[axis].get_level_values(key)._values\n\u001b[32m   1910\u001b[39m         \u001b[38;5;28;01melse\u001b[39;00m:\n\u001b[32m-> \u001b[39m\u001b[32m1911\u001b[39m             \u001b[38;5;28;01mraise\u001b[39;00m KeyError(key)\n\u001b[32m   1912\u001b[39m \n\u001b[32m   1913\u001b[39m         \u001b[38;5;66;03m# Check for duplicates\u001b[39;00m\n\u001b[32m   1914\u001b[39m         \u001b[38;5;28;01mif\u001b[39;00m values.ndim > \u001b[32m1\u001b[39m:\n",
      "\u001b[31mKeyError\u001b[39m: 'link_id'"
     ]
    }
   ],
   "source": [
    "# Merge the speed data with the edges data\n",
    "edges_gdf = edges_gdf.merge(speed_df, on='link_id', how='left')\n",
    "edges_gdf"
   ]
  },
  {
   "cell_type": "code",
   "execution_count": null,
   "id": "a874febc",
   "metadata": {},
   "outputs": [],
   "source": [
    "# Find the cells with missing speed data\n",
    "edges_gdf.loc[(edges_gdf['speed'].isna()) | (edges_gdf['speed'] == 0)]"
   ]
  },
  {
   "cell_type": "code",
   "execution_count": null,
   "id": "f80dd78b",
   "metadata": {},
   "outputs": [],
   "source": [
    "# Fill the missing speed data based on the road rank\n",
    "for idx, row in edges_gdf.loc[(edges_gdf['speed'].isna()) | (edges_gdf['speed'] == 0)].iterrows():\n",
    "\n",
    "    if row['road_rank'] == '101': # 고속도로\n",
    "        edges_gdf.at[idx, 'speed'] = 100\n",
    "    elif row['road_rank'] == '102': # 도시고속도로\n",
    "        edges_gdf.at[idx, 'speed'] = 80\n",
    "    # 일반국도, 특별/광역시도, 국가지원지방도, 일반지방도, 시군도\n",
    "    elif row['road_rank'] in ['103', '104', '105', '106', '107']: \n",
    "        edges_gdf.at[idx, 'speed'] = 50\n",
    "    elif row['road_rank'] == '108': # 고속도로 연결램프\n",
    "        edges_gdf.at[idx, 'speed'] = 40\n",
    "    else:\n",
    "        raise ValueError('Unexpected Road Rank')\n",
    "            "
   ]
  },
  {
   "cell_type": "code",
   "execution_count": null,
   "id": "8c675079",
   "metadata": {},
   "outputs": [],
   "source": [
    "edges_gdf.loc[edges_gdf['speed'].isna()]"
   ]
  },
  {
   "cell_type": "code",
   "execution_count": null,
   "id": "7f0ebd4b",
   "metadata": {},
   "outputs": [],
   "source": [
    "# Match Scheme with OSMnx\n",
    "edges_gdf = edges_gdf.rename(columns={'f_node': 'u', 't_node': 'v'}) #  , 'link_id': 'osmid'})\n",
    "edges_gdf['key'] = 0\n",
    "edges_gdf = edges_gdf.set_index(['u', 'v', 'key'])\n",
    "edges_gdf"
   ]
  },
  {
   "cell_type": "code",
   "execution_count": null,
   "id": "ca01449c",
   "metadata": {},
   "outputs": [],
   "source": [
    "edges_gdf.index.get_level_values('u').isin(nodes_gdf.index)"
   ]
  },
  {
   "cell_type": "code",
   "execution_count": null,
   "id": "5aaccca1",
   "metadata": {},
   "outputs": [],
   "source": [
    "# Remove edges that are not connected to the nodes\n",
    "edges_gdf = edges_gdf.loc[(edges_gdf.index.get_level_values('u').isin(nodes_gdf.index)) & \n",
    "                          (edges_gdf.index.get_level_values('v').isin(nodes_gdf.index))\n",
    "                         ]\n",
    "edges_gdf"
   ]
  },
  {
   "cell_type": "code",
   "execution_count": null,
   "id": "e954ef74",
   "metadata": {},
   "outputs": [],
   "source": [
    "# Double check if there are any edges with speed 0\n",
    "edges_gdf.loc[edges_gdf['speed'] == 0]"
   ]
  },
  {
   "cell_type": "code",
   "execution_count": null,
   "id": "bb3be4a3",
   "metadata": {},
   "outputs": [],
   "source": [
    "# Calculate the travel time for each edge\n",
    "# travel_time = length / speed\n",
    "# Convert speed from km/h to m/s\n",
    "edges_gdf['travel_time'] = edges_gdf.apply(lambda x: x['length'] / (x['speed'] * 1000 / 3600), axis=1)\n",
    "edges_gdf"
   ]
  },
  {
   "cell_type": "code",
   "execution_count": null,
   "id": "964656f4",
   "metadata": {},
   "outputs": [],
   "source": [
    "edges_gdf.plot(column='speed', cmap='Reds_r', \n",
    "               legend=True, \n",
    "               scheme='UserDefined',\n",
    "                classification_kwds={'bins': [30, 50, 80, 100]},\n",
    "                figsize=(10, 10))"
   ]
  },
  {
   "cell_type": "markdown",
   "id": "0fe0ede9",
   "metadata": {},
   "source": [
    "## 5. Convert the GeoDataFrames to a graph"
   ]
  },
  {
   "cell_type": "code",
   "execution_count": null,
   "id": "04641546",
   "metadata": {},
   "outputs": [],
   "source": [
    "# Convert nodes and edges GeoDataFrames to NetworkX graph\n",
    "G = ox.graph_from_gdfs(nodes_gdf, edges_gdf)\n",
    "\n",
    "ox.plot_graph(G)"
   ]
  },
  {
   "cell_type": "markdown",
   "id": "105f596c",
   "metadata": {},
   "source": [
    "## 6. Check the graph (i.e., remove disconnected nodes)\n",
    "\n",
    "We can remove disconnected nodes from the graph using nx.strongly_connected_components() function. This function returns a list of strongly connected components in the graph, which can identify a subgraph that is unreachable from other nodes/vertices of a graph or subgraph. "
   ]
  },
  {
   "cell_type": "code",
   "execution_count": null,
   "id": "316b9cc4",
   "metadata": {},
   "outputs": [],
   "source": [
    "list(nx.strongly_connected_components(G))"
   ]
  },
  {
   "cell_type": "code",
   "execution_count": null,
   "id": "c4c196a5",
   "metadata": {},
   "outputs": [],
   "source": [
    "abc = [c for c in sorted(nx.strongly_connected_components(G), key=len, reverse=True)]\n",
    "abc"
   ]
  },
  {
   "cell_type": "code",
   "execution_count": null,
   "id": "b14db714",
   "metadata": {},
   "outputs": [],
   "source": [
    "nodes_gdf.loc[nodes_gdf.index.isin(abc[4])].explore()"
   ]
  },
  {
   "cell_type": "code",
   "execution_count": null,
   "id": "9ed11f2b",
   "metadata": {},
   "outputs": [],
   "source": [
    "# With max function, we can find the largest connected component\n",
    "largest_section = max(nx.strongly_connected_components(G), key=len)\n",
    "largest_section"
   ]
  },
  {
   "cell_type": "code",
   "execution_count": null,
   "id": "5d1c78a4",
   "metadata": {},
   "outputs": [],
   "source": [
    "# G.subgraph will clip the graph with the nodes provided\n",
    "# This will create a new graph with only the nodes in the largest section\n",
    "G = G.subgraph(largest_section)\n",
    "ox.plot_graph(G)"
   ]
  },
  {
   "cell_type": "markdown",
   "id": "f7cfd518",
   "metadata": {},
   "source": [
    "## 7. Export the graph to a graphml file"
   ]
  },
  {
   "cell_type": "code",
   "execution_count": null,
   "id": "3bb37768",
   "metadata": {},
   "outputs": [],
   "source": [
    "# You can save the graph to a file\n",
    "# ox.save_graphml(G, './data/road_network_seoul.graphml')"
   ]
  }
 ],
 "metadata": {
  "kernelspec": {
   "display_name": "r5py",
   "language": "python",
   "name": "r5py"
  },
  "language_info": {
   "codemirror_mode": {
    "name": "ipython",
    "version": 3
   },
   "file_extension": ".py",
   "mimetype": "text/x-python",
   "name": "python",
   "nbconvert_exporter": "python",
   "pygments_lexer": "ipython3",
   "version": "3.13.5"
  }
 },
 "nbformat": 4,
 "nbformat_minor": 5
}
